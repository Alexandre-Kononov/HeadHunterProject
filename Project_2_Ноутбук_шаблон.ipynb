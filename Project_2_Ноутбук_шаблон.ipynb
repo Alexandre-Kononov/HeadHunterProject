{
  "cells": [
    {
      "attachments": {},
      "cell_type": "markdown",
      "id": "42289889-bd57-434e-9637-d3e354756316",
      "metadata": {
        "id": "42289889-bd57-434e-9637-d3e354756316"
      },
      "source": [
        "<center> <img src = https://raw.githubusercontent.com/AndreyRysistov/DatasetsForPandas/main/hh%20label.jpg alt=\"drawing\" style=\"width:400px;\">"
      ]
    },
    {
      "attachments": {},
      "cell_type": "markdown",
      "id": "829cb75b-f14e-4ba8-9195-7ba929a7d656",
      "metadata": {
        "id": "829cb75b-f14e-4ba8-9195-7ba929a7d656",
        "tags": []
      },
      "source": [
        "# <center> Проект: Анализ вакансий из HeadHunter\n",
        "   "
      ]
    },
    {
      "cell_type": "code",
      "execution_count": 1,
      "id": "df2abdee",
      "metadata": {},
      "outputs": [],
      "source": [
        "import sqlalchemy as db\n",
        "from sqlalchemy import text\n",
        "from sqlalchemy import inspect \n",
        "import pandas as pd"
      ]
    },
    {
      "cell_type": "code",
      "execution_count": 2,
      "id": "57e11bbf",
      "metadata": {},
      "outputs": [],
      "source": [
        "# установка соединения\n"
      ]
    },
    {
      "cell_type": "code",
      "execution_count": 3,
      "id": "aa9eee78",
      "metadata": {},
      "outputs": [
        {
          "name": "stdout",
          "output_type": "stream",
          "text": [
            "Кол-во таблиц в этой БД - 13.\n",
            "\ttest:\n",
            "Столбцы в таблице 'test':\n",
            "Название: name\tТип: TEXT\n",
            "Название: cnt\tТип: BIGINT\n",
            "\n",
            "\tt_tab1:\n",
            "Столбцы в таблице 't_tab1':\n",
            "Название: id\tТип: INTEGER\n",
            "Название: goods_type\tТип: VARCHAR(255)\n",
            "Название: quantity\tТип: INTEGER\n",
            "Название: amount\tТип: INTEGER\n",
            "Название: seller_name\tТип: VARCHAR(255)\n",
            "\n",
            "\tt_tab2:\n",
            "Столбцы в таблице 't_tab2':\n",
            "Название: id\tТип: INTEGER\n",
            "Название: name\tТип: VARCHAR(255)\n",
            "Название: salary\tТип: INTEGER\n",
            "Название: age\tТип: INTEGER\n",
            "\n",
            "\toperations:\n",
            "Столбцы в таблице 'operations':\n",
            "Название: id\tТип: BIGINT\n",
            "Название: operdate\tТип: DATE\n",
            "Название: recieverid\tТип: BIGINT\n",
            "Название: senderid\tТип: BIGINT\n",
            "Название: amount\tТип: NUMERIC(15, 2)\n",
            "\n",
            "\ttable_1:\n",
            "Столбцы в таблице 'table_1':\n",
            "Название: name\tТип: TEXT\n",
            "Название: cnt\tТип: BIGINT\n",
            "\n",
            "\tfilms_recent:\n",
            "Столбцы в таблице 'films_recent':\n",
            "Название: name\tТип: TEXT\n",
            "Название: count\tТип: BIGINT\n",
            "\n",
            "\tcities:\n",
            "Столбцы в таблице 'cities':\n",
            "Название: city\tТип: ARRAY\n",
            "\n",
            "\temployers:\n",
            "Столбцы в таблице 'employers':\n",
            "Название: id\tТип: INTEGER\n",
            "Название: name\tТип: TEXT\n",
            "Название: area\tТип: INTEGER\n",
            "\n",
            "\temployers_industries:\n",
            "Столбцы в таблице 'employers_industries':\n",
            "Название: employer_id\tТип: INTEGER\n",
            "Название: industry_id\tТип: VARCHAR(10)\n",
            "\n",
            "\tindustries:\n",
            "Столбцы в таблице 'industries':\n",
            "Название: id\tТип: VARCHAR(10)\n",
            "Название: name\tТип: TEXT\n",
            "\n",
            "\tvacancies:\n",
            "Столбцы в таблице 'vacancies':\n",
            "Название: id\tТип: INTEGER\n",
            "Название: name\tТип: TEXT\n",
            "Название: key_skills\tТип: TEXT\n",
            "Название: schedule\tТип: TEXT\n",
            "Название: experience\tТип: TEXT\n",
            "Название: employment\tТип: TEXT\n",
            "Название: salary_from\tТип: INTEGER\n",
            "Название: salary_to\tТип: INTEGER\n",
            "Название: area_id\tТип: INTEGER\n",
            "Название: employer_id\tТип: INTEGER\n",
            "\n",
            "\tareas:\n",
            "Столбцы в таблице 'areas':\n",
            "Название: id\tТип: INTEGER\n",
            "Название: name\tТип: TEXT\n",
            "\n",
            "\tds_vacancies:\n",
            "Столбцы в таблице 'ds_vacancies':\n",
            "Название: id\tТип: INTEGER\n",
            "Название: name\tТип: TEXT\n",
            "Название: key_skills\tТип: TEXT\n",
            "Название: schedule\tТип: TEXT\n",
            "Название: experience\tТип: TEXT\n",
            "Название: employment\tТип: TEXT\n",
            "Название: salary_from\tТип: INTEGER\n",
            "Название: salary_to\tТип: INTEGER\n",
            "Название: area_id\tТип: INTEGER\n",
            "Название: employer_id\tТип: INTEGER\n",
            "\n"
          ]
        }
      ],
      "source": [
        "# Получение списка таблиц в базе данных и их столбцов с типами данных:\n",
        "\n",
        "# Создание объекта inspector для анализа базы данных:\n",
        "inspector = inspect(engine)\n",
        "\n",
        "# Получение списка имен таблиц в базе данных:\n",
        "table_names = inspector.get_table_names()\n",
        "\n",
        "# Вывод информации о количестве таблиц в базе данных:\n",
        "print(f\"Кол-во таблиц в этой БД - {len(table_names)}.\")\n",
        "\n",
        "# Перебор и вывод информации о таблицах:   \n",
        "for table_name in table_names:\n",
        "    print(f\"\\t{table_name}:\")\n",
        "    print(f\"Столбцы в таблице '{table_name}':\")\n",
        "    columns = inspector.get_columns(table_name)\n",
        "    for column in columns:\n",
        "        print(f\"Название: {column['name']}\\tТип: {column['type']}\")\n",
        "    print()"
      ]
    },
    {
      "attachments": {},
      "cell_type": "markdown",
      "id": "0dc6476b-7a00-44f1-ac93-6e3baed33a29",
      "metadata": {
        "id": "0dc6476b-7a00-44f1-ac93-6e3baed33a29"
      },
      "source": [
        "# Юнит 3. Предварительный анализ данных"
      ]
    },
    {
      "attachments": {},
      "cell_type": "markdown",
      "id": "889782b6-8d1c-410e-8920-e57f27917c64",
      "metadata": {
        "id": "889782b6-8d1c-410e-8920-e57f27917c64"
      },
      "source": [
        "1. Напишите запрос, который посчитает количество вакансий в нашей базе (вакансии находятся в таблице vacancies). "
      ]
    },
    {
      "cell_type": "code",
      "execution_count": 4,
      "id": "bc39e68e-ed02-4ee2-9235-7258a2f867a8",
      "metadata": {
        "id": "bc39e68e-ed02-4ee2-9235-7258a2f867a8"
      },
      "outputs": [],
      "source": [
        "# SQL-запрос для получения количества вакансий в таблице \"vacancies\"\n",
        "query3_1 = '''\n",
        "    SELECT \n",
        "   \t    COUNT (*) AS cnt_vacancies\n",
        "    FROM \n",
        "        vacancies;\n",
        "         '''"
      ]
    },
    {
      "cell_type": "code",
      "execution_count": 5,
      "id": "38f23162",
      "metadata": {},
      "outputs": [
        {
          "data": {
            "text/html": [
              "<div>\n",
              "<style scoped>\n",
              "    .dataframe tbody tr th:only-of-type {\n",
              "        vertical-align: middle;\n",
              "    }\n",
              "\n",
              "    .dataframe tbody tr th {\n",
              "        vertical-align: top;\n",
              "    }\n",
              "\n",
              "    .dataframe thead th {\n",
              "        text-align: right;\n",
              "    }\n",
              "</style>\n",
              "<table border=\"1\" class=\"dataframe\">\n",
              "  <thead>\n",
              "    <tr style=\"text-align: right;\">\n",
              "      <th></th>\n",
              "      <th>cnt_vacancies</th>\n",
              "    </tr>\n",
              "  </thead>\n",
              "  <tbody>\n",
              "    <tr>\n",
              "      <th>0</th>\n",
              "      <td>49197</td>\n",
              "    </tr>\n",
              "  </tbody>\n",
              "</table>\n",
              "</div>"
            ],
            "text/plain": [
              "   cnt_vacancies\n",
              "0          49197"
            ]
          },
          "execution_count": 5,
          "metadata": {},
          "output_type": "execute_result"
        }
      ],
      "source": [
        "# Выполнение SQL-запроса и получение результата:\n",
        "result = conn.execute(text(query3_1)).fetchall()\n",
        "# Создание DataFrame из результата:\n",
        "df = pd.DataFrame(result)\n",
        "df"
      ]
    },
    {
      "attachments": {},
      "cell_type": "markdown",
      "id": "b583485d-1f9e-494e-ada4-80ffff7c53d6",
      "metadata": {
        "id": "b583485d-1f9e-494e-ada4-80ffff7c53d6"
      },
      "source": [
        "2. Напишите запрос, который посчитает количество работодателей (таблица employers). "
      ]
    },
    {
      "cell_type": "code",
      "execution_count": 6,
      "id": "5408c52c-3407-4a63-b25b-1aafa2322d28",
      "metadata": {
        "id": "5408c52c-3407-4a63-b25b-1aafa2322d28"
      },
      "outputs": [],
      "source": [
        "# SQL-запрос для получения количества работодателей в таблице \"employers\"\n",
        "query3_2 = '''\n",
        "     SELECT \n",
        "   \t     COUNT (employers.id) AS cnt_employers\n",
        "     FROM \n",
        "          employers;\n",
        "         '''"
      ]
    },
    {
      "cell_type": "code",
      "execution_count": 7,
      "id": "jVL4eshKhdqc",
      "metadata": {
        "id": "jVL4eshKhdqc"
      },
      "outputs": [
        {
          "data": {
            "text/html": [
              "<div>\n",
              "<style scoped>\n",
              "    .dataframe tbody tr th:only-of-type {\n",
              "        vertical-align: middle;\n",
              "    }\n",
              "\n",
              "    .dataframe tbody tr th {\n",
              "        vertical-align: top;\n",
              "    }\n",
              "\n",
              "    .dataframe thead th {\n",
              "        text-align: right;\n",
              "    }\n",
              "</style>\n",
              "<table border=\"1\" class=\"dataframe\">\n",
              "  <thead>\n",
              "    <tr style=\"text-align: right;\">\n",
              "      <th></th>\n",
              "      <th>cnt_employers</th>\n",
              "    </tr>\n",
              "  </thead>\n",
              "  <tbody>\n",
              "    <tr>\n",
              "      <th>0</th>\n",
              "      <td>23501</td>\n",
              "    </tr>\n",
              "  </tbody>\n",
              "</table>\n",
              "</div>"
            ],
            "text/plain": [
              "   cnt_employers\n",
              "0          23501"
            ]
          },
          "execution_count": 7,
          "metadata": {},
          "output_type": "execute_result"
        }
      ],
      "source": [
        "# Выполнение SQL-запроса и получение результата:\n",
        "result = conn.execute(text(query3_2)).fetchall()\n",
        "# Создание DataFrame из результата:\n",
        "df = pd.DataFrame(result)\n",
        "df"
      ]
    },
    {
      "attachments": {},
      "cell_type": "markdown",
      "id": "a2bfff1f-c975-4bf6-84be-2185d79dcb76",
      "metadata": {
        "id": "a2bfff1f-c975-4bf6-84be-2185d79dcb76"
      },
      "source": [
        "3. Посчитате с помощью запроса количество регионов (таблица areas)."
      ]
    },
    {
      "cell_type": "code",
      "execution_count": 8,
      "id": "1m8QJwBYhey6",
      "metadata": {
        "id": "1m8QJwBYhey6"
      },
      "outputs": [],
      "source": [
        "# SQL-запрос для получения количества регионов в таблице \"areas\"\n",
        "query3_3 = '''\n",
        "     SELECT \n",
        "   \t     COUNT (areas.id) AS cnt_areas\n",
        "     FROM \n",
        "          areas;\n",
        "         '''"
      ]
    },
    {
      "cell_type": "code",
      "execution_count": 9,
      "id": "EZsn9tlfhe7f",
      "metadata": {
        "id": "EZsn9tlfhe7f"
      },
      "outputs": [
        {
          "data": {
            "text/html": [
              "<div>\n",
              "<style scoped>\n",
              "    .dataframe tbody tr th:only-of-type {\n",
              "        vertical-align: middle;\n",
              "    }\n",
              "\n",
              "    .dataframe tbody tr th {\n",
              "        vertical-align: top;\n",
              "    }\n",
              "\n",
              "    .dataframe thead th {\n",
              "        text-align: right;\n",
              "    }\n",
              "</style>\n",
              "<table border=\"1\" class=\"dataframe\">\n",
              "  <thead>\n",
              "    <tr style=\"text-align: right;\">\n",
              "      <th></th>\n",
              "      <th>cnt_areas</th>\n",
              "    </tr>\n",
              "  </thead>\n",
              "  <tbody>\n",
              "    <tr>\n",
              "      <th>0</th>\n",
              "      <td>1362</td>\n",
              "    </tr>\n",
              "  </tbody>\n",
              "</table>\n",
              "</div>"
            ],
            "text/plain": [
              "   cnt_areas\n",
              "0       1362"
            ]
          },
          "execution_count": 9,
          "metadata": {},
          "output_type": "execute_result"
        }
      ],
      "source": [
        "# Выполнение SQL-запроса и получение результата:\n",
        "result = conn.execute(text(query3_3)).fetchall()\n",
        "# Создание DataFrame из результата:\n",
        "df = pd.DataFrame(result)\n",
        "df"
      ]
    },
    {
      "attachments": {},
      "cell_type": "markdown",
      "id": "41bb59f3-53cc-4a67-a5bc-bedf573955e4",
      "metadata": {
        "id": "41bb59f3-53cc-4a67-a5bc-bedf573955e4"
      },
      "source": [
        "4. Посчитате с помощью запроса количество сфер деятельности в базе (таблица industries)."
      ]
    },
    {
      "cell_type": "code",
      "execution_count": 10,
      "id": "d286cf4c-707b-4cd2-9190-7ab3587d04a1",
      "metadata": {
        "id": "d286cf4c-707b-4cd2-9190-7ab3587d04a1"
      },
      "outputs": [],
      "source": [
        "# SQL-запрос для получения количества сфер деятельности в таблице \"industries\"\n",
        "query3_4 = '''\n",
        "     SELECT \n",
        "   \t     COUNT (id) AS cnt_industries\n",
        "     FROM \n",
        "          industries;\n",
        "         '''"
      ]
    },
    {
      "cell_type": "code",
      "execution_count": 11,
      "id": "JYAaoZ4qhfzW",
      "metadata": {
        "id": "JYAaoZ4qhfzW"
      },
      "outputs": [
        {
          "data": {
            "text/html": [
              "<div>\n",
              "<style scoped>\n",
              "    .dataframe tbody tr th:only-of-type {\n",
              "        vertical-align: middle;\n",
              "    }\n",
              "\n",
              "    .dataframe tbody tr th {\n",
              "        vertical-align: top;\n",
              "    }\n",
              "\n",
              "    .dataframe thead th {\n",
              "        text-align: right;\n",
              "    }\n",
              "</style>\n",
              "<table border=\"1\" class=\"dataframe\">\n",
              "  <thead>\n",
              "    <tr style=\"text-align: right;\">\n",
              "      <th></th>\n",
              "      <th>cnt_industries</th>\n",
              "    </tr>\n",
              "  </thead>\n",
              "  <tbody>\n",
              "    <tr>\n",
              "      <th>0</th>\n",
              "      <td>294</td>\n",
              "    </tr>\n",
              "  </tbody>\n",
              "</table>\n",
              "</div>"
            ],
            "text/plain": [
              "   cnt_industries\n",
              "0             294"
            ]
          },
          "execution_count": 11,
          "metadata": {},
          "output_type": "execute_result"
        }
      ],
      "source": [
        "# Выполнение SQL-запроса и получение результата:\n",
        "result = conn.execute(text(query3_4)).fetchall()\n",
        "# Создание DataFrame из результата:\n",
        "df = pd.DataFrame(result)\n",
        "df"
      ]
    },
    {
      "cell_type": "markdown",
      "id": "6ee75035",
      "metadata": {},
      "source": [
        "Дополнительное исследование 1: Среднее количество вакансий на одного работодателя"
      ]
    },
    {
      "cell_type": "code",
      "execution_count": 12,
      "id": "fd95cd86",
      "metadata": {},
      "outputs": [],
      "source": [
        "# SQL-запрос для определния среднего количества вакансий на одного работодателя в таблице vacancies\n",
        "query3_A1 = '''\n",
        "     SELECT \n",
        "   \t     (COUNT (DISTINCT id)/COUNT(DISTINCT employer_id)) AS avg_vacancies\n",
        "     FROM \n",
        "          vacancies;\n",
        "         '''"
      ]
    },
    {
      "cell_type": "code",
      "execution_count": 13,
      "id": "3f80fb33",
      "metadata": {},
      "outputs": [
        {
          "data": {
            "text/html": [
              "<div>\n",
              "<style scoped>\n",
              "    .dataframe tbody tr th:only-of-type {\n",
              "        vertical-align: middle;\n",
              "    }\n",
              "\n",
              "    .dataframe tbody tr th {\n",
              "        vertical-align: top;\n",
              "    }\n",
              "\n",
              "    .dataframe thead th {\n",
              "        text-align: right;\n",
              "    }\n",
              "</style>\n",
              "<table border=\"1\" class=\"dataframe\">\n",
              "  <thead>\n",
              "    <tr style=\"text-align: right;\">\n",
              "      <th></th>\n",
              "      <th>avg_vacancies</th>\n",
              "    </tr>\n",
              "  </thead>\n",
              "  <tbody>\n",
              "    <tr>\n",
              "      <th>0</th>\n",
              "      <td>3</td>\n",
              "    </tr>\n",
              "  </tbody>\n",
              "</table>\n",
              "</div>"
            ],
            "text/plain": [
              "   avg_vacancies\n",
              "0              3"
            ]
          },
          "execution_count": 13,
          "metadata": {},
          "output_type": "execute_result"
        }
      ],
      "source": [
        "# Выполнение SQL-запроса и получение результата:\n",
        "result = conn.execute(text(query3_A1)).fetchall()\n",
        "# Создание DataFrame из результата:\n",
        "df = pd.DataFrame(result)\n",
        "df"
      ]
    },
    {
      "cell_type": "markdown",
      "id": "1eb96895",
      "metadata": {},
      "source": [
        "Дополнительное исследование 2: Среднее количество сфер деятельности на одного работодателя"
      ]
    },
    {
      "cell_type": "code",
      "execution_count": 14,
      "id": "5f64e5ee",
      "metadata": {},
      "outputs": [],
      "source": [
        "# SQL-запрос для определения среднего количества сфер деятельности на одного работодателя в таблице EMPLOYERS_INDUSTRIES\n",
        "query3_A2 = '''\n",
        "     SELECT \n",
        "   \t     (COUNT (industry_id)/COUNT(DISTINCT(employer_id))) AS avg_industries\n",
        "     \n",
        "     FROM \n",
        "          EMPLOYERS_INDUSTRIES;\n",
        "         '''"
      ]
    },
    {
      "cell_type": "code",
      "execution_count": 15,
      "id": "942f0e33",
      "metadata": {},
      "outputs": [
        {
          "data": {
            "text/html": [
              "<div>\n",
              "<style scoped>\n",
              "    .dataframe tbody tr th:only-of-type {\n",
              "        vertical-align: middle;\n",
              "    }\n",
              "\n",
              "    .dataframe tbody tr th {\n",
              "        vertical-align: top;\n",
              "    }\n",
              "\n",
              "    .dataframe thead th {\n",
              "        text-align: right;\n",
              "    }\n",
              "</style>\n",
              "<table border=\"1\" class=\"dataframe\">\n",
              "  <thead>\n",
              "    <tr style=\"text-align: right;\">\n",
              "      <th></th>\n",
              "      <th>avg_industries</th>\n",
              "    </tr>\n",
              "  </thead>\n",
              "  <tbody>\n",
              "    <tr>\n",
              "      <th>0</th>\n",
              "      <td>2</td>\n",
              "    </tr>\n",
              "  </tbody>\n",
              "</table>\n",
              "</div>"
            ],
            "text/plain": [
              "   avg_industries\n",
              "0               2"
            ]
          },
          "execution_count": 15,
          "metadata": {},
          "output_type": "execute_result"
        }
      ],
      "source": [
        "# Выполнение SQL-запроса и получение результата:\n",
        "result = conn.execute(text(query3_A2)).fetchall()\n",
        "# Создание DataFrame из результата:\n",
        "df = pd.DataFrame(result)\n",
        "df"
      ]
    },
    {
      "cell_type": "markdown",
      "id": "be4e9bd3-a4db-4a20-82fb-6b02fc2957e0",
      "metadata": {
        "id": "be4e9bd3-a4db-4a20-82fb-6b02fc2957e0"
      },
      "source": [
        "# выводы по предварительному анализу данных\n",
        "\n",
        "Общее количество вакансий в таблице vacancies - 49197. Общее количество работодателей employers - 23501. Количество регионов в таблице areas - 1362. Общее количество сфер деятельности в таблице industries - 294.\n",
        "\n",
        "Из полученных данных следует, что в среднем, на одного работодателя приходится по 3 вакансии. В среднем, на одну сферу деятельности работодателя приходятся  в 2-х разных сферах деятельности."
      ]
    },
    {
      "attachments": {},
      "cell_type": "markdown",
      "id": "8d62a9f3-f64e-4fe7-bdac-c4dffa16155e",
      "metadata": {
        "id": "8d62a9f3-f64e-4fe7-bdac-c4dffa16155e"
      },
      "source": [
        "# Юнит 4. Детальный анализ вакансий"
      ]
    },
    {
      "attachments": {},
      "cell_type": "markdown",
      "id": "93053d3d-b284-481a-9cf7-012d7014c0e0",
      "metadata": {
        "id": "93053d3d-b284-481a-9cf7-012d7014c0e0"
      },
      "source": [
        "1. Напишите запрос, который позволит узнать, сколько (cnt) вакансий в каждом регионе (area).\n",
        "Отсортируйте по количеству вакансий в порядке убывания."
      ]
    },
    {
      "cell_type": "code",
      "execution_count": 16,
      "id": "3f069da6-fdc9-4ae7-b514-fafe2675efd3",
      "metadata": {
        "id": "3f069da6-fdc9-4ae7-b514-fafe2675efd3"
      },
      "outputs": [],
      "source": [
        "# SQL запрос для определения количества вакансий в каждом регионе с сортировкой по кол-ву вакансий в порядке убывания\n",
        "query4_1 = '''\n",
        "    SELECT \n",
        "        a.name AS area,\n",
        "        count(v.id) AS cnt\n",
        "    FROM \n",
        "        vacancies AS v\n",
        "    JOIN \n",
        "        areas AS a ON a.id = v.area_id\n",
        "    GROUP BY \n",
        "        a.name\n",
        "    ORDER BY \n",
        "        2 DESC;    \n",
        "         '''\n"
      ]
    },
    {
      "cell_type": "code",
      "execution_count": 17,
      "id": "P7QL86hrjhRJ",
      "metadata": {
        "id": "P7QL86hrjhRJ"
      },
      "outputs": [
        {
          "data": {
            "text/html": [
              "<div>\n",
              "<style scoped>\n",
              "    .dataframe tbody tr th:only-of-type {\n",
              "        vertical-align: middle;\n",
              "    }\n",
              "\n",
              "    .dataframe tbody tr th {\n",
              "        vertical-align: top;\n",
              "    }\n",
              "\n",
              "    .dataframe thead th {\n",
              "        text-align: right;\n",
              "    }\n",
              "</style>\n",
              "<table border=\"1\" class=\"dataframe\">\n",
              "  <thead>\n",
              "    <tr style=\"text-align: right;\">\n",
              "      <th></th>\n",
              "      <th>area</th>\n",
              "      <th>cnt</th>\n",
              "    </tr>\n",
              "  </thead>\n",
              "  <tbody>\n",
              "    <tr>\n",
              "      <th>0</th>\n",
              "      <td>Москва</td>\n",
              "      <td>5333</td>\n",
              "    </tr>\n",
              "    <tr>\n",
              "      <th>1</th>\n",
              "      <td>Санкт-Петербург</td>\n",
              "      <td>2851</td>\n",
              "    </tr>\n",
              "    <tr>\n",
              "      <th>2</th>\n",
              "      <td>Минск</td>\n",
              "      <td>2112</td>\n",
              "    </tr>\n",
              "    <tr>\n",
              "      <th>3</th>\n",
              "      <td>Новосибирск</td>\n",
              "      <td>2006</td>\n",
              "    </tr>\n",
              "    <tr>\n",
              "      <th>4</th>\n",
              "      <td>Алматы</td>\n",
              "      <td>1892</td>\n",
              "    </tr>\n",
              "    <tr>\n",
              "      <th>...</th>\n",
              "      <td>...</td>\n",
              "      <td>...</td>\n",
              "    </tr>\n",
              "    <tr>\n",
              "      <th>764</th>\n",
              "      <td>Тарко-Сале</td>\n",
              "      <td>1</td>\n",
              "    </tr>\n",
              "    <tr>\n",
              "      <th>765</th>\n",
              "      <td>Новоаннинский</td>\n",
              "      <td>1</td>\n",
              "    </tr>\n",
              "    <tr>\n",
              "      <th>766</th>\n",
              "      <td>Бирск</td>\n",
              "      <td>1</td>\n",
              "    </tr>\n",
              "    <tr>\n",
              "      <th>767</th>\n",
              "      <td>Сасово</td>\n",
              "      <td>1</td>\n",
              "    </tr>\n",
              "    <tr>\n",
              "      <th>768</th>\n",
              "      <td>Анна</td>\n",
              "      <td>1</td>\n",
              "    </tr>\n",
              "  </tbody>\n",
              "</table>\n",
              "<p>769 rows × 2 columns</p>\n",
              "</div>"
            ],
            "text/plain": [
              "                area   cnt\n",
              "0             Москва  5333\n",
              "1    Санкт-Петербург  2851\n",
              "2              Минск  2112\n",
              "3        Новосибирск  2006\n",
              "4             Алматы  1892\n",
              "..               ...   ...\n",
              "764       Тарко-Сале     1\n",
              "765    Новоаннинский     1\n",
              "766            Бирск     1\n",
              "767           Сасово     1\n",
              "768             Анна     1\n",
              "\n",
              "[769 rows x 2 columns]"
            ]
          },
          "execution_count": 17,
          "metadata": {},
          "output_type": "execute_result"
        }
      ],
      "source": [
        "# Выполнение SQL-запроса и получение результата:\n",
        "result = conn.execute(text(query4_1)).fetchall()\n",
        "# Создание DataFrame из результата:\n",
        "df = pd.DataFrame(result)\n",
        "df"
      ]
    },
    {
      "attachments": {},
      "cell_type": "markdown",
      "id": "4266f0b6-1646-492a-88b4-2f6a46502135",
      "metadata": {
        "id": "4266f0b6-1646-492a-88b4-2f6a46502135"
      },
      "source": [
        "2. Напишите запрос, чтобы определить у какого количества вакансий заполнено хотя бы одно из двух полей с зарплатой."
      ]
    },
    {
      "cell_type": "code",
      "execution_count": 18,
      "id": "0c44b350-72eb-4d65-8b54-a1fc449ba9fd",
      "metadata": {
        "id": "0c44b350-72eb-4d65-8b54-a1fc449ba9fd"
      },
      "outputs": [],
      "source": [
        "# SQL запрос, определяющий количество вакансий где заполнено хотя бы одно из двух полей с зарплатой\n",
        "query4_2 = '''\n",
        "SELECT \n",
        "    COUNT(v.id)\n",
        "FROM \n",
        "    vacancies AS v\n",
        "WHERE \n",
        "    v.salary_from IS NOT NULL OR v.salary_to IS NOT NULL;\n",
        "    '''"
      ]
    },
    {
      "cell_type": "code",
      "execution_count": 19,
      "id": "rhvwaMDkoWTi",
      "metadata": {
        "id": "rhvwaMDkoWTi"
      },
      "outputs": [
        {
          "data": {
            "text/html": [
              "<div>\n",
              "<style scoped>\n",
              "    .dataframe tbody tr th:only-of-type {\n",
              "        vertical-align: middle;\n",
              "    }\n",
              "\n",
              "    .dataframe tbody tr th {\n",
              "        vertical-align: top;\n",
              "    }\n",
              "\n",
              "    .dataframe thead th {\n",
              "        text-align: right;\n",
              "    }\n",
              "</style>\n",
              "<table border=\"1\" class=\"dataframe\">\n",
              "  <thead>\n",
              "    <tr style=\"text-align: right;\">\n",
              "      <th></th>\n",
              "      <th>count</th>\n",
              "    </tr>\n",
              "  </thead>\n",
              "  <tbody>\n",
              "    <tr>\n",
              "      <th>0</th>\n",
              "      <td>24073</td>\n",
              "    </tr>\n",
              "  </tbody>\n",
              "</table>\n",
              "</div>"
            ],
            "text/plain": [
              "   count\n",
              "0  24073"
            ]
          },
          "execution_count": 19,
          "metadata": {},
          "output_type": "execute_result"
        }
      ],
      "source": [
        "# Выполнение SQL-запроса и получение результата:\n",
        "result = conn.execute(text(query4_2)).fetchall()\n",
        "# Создание DataFrame из результата:\n",
        "df = pd.DataFrame(result)\n",
        "df"
      ]
    },
    {
      "attachments": {},
      "cell_type": "markdown",
      "id": "635c4d5d-f323-4c66-b428-50a088120aa0",
      "metadata": {
        "id": "635c4d5d-f323-4c66-b428-50a088120aa0"
      },
      "source": [
        "3. Найдите средние значения для нижней и верхней границы зарплатной вилки. Округлите значения до целого."
      ]
    },
    {
      "cell_type": "code",
      "execution_count": 20,
      "id": "603cdbe4-0ec3-4106-8eaf-c73fcdd29165",
      "metadata": {
        "id": "603cdbe4-0ec3-4106-8eaf-c73fcdd29165"
      },
      "outputs": [],
      "source": [
        "# текст запроса\n",
        "query4_3 = '''\n",
        "    SELECT\n",
        "        'AVG minimum salary' :: text AS salary,\n",
        "        ROUND(AVG(salary_from)) AS amount\n",
        "    FROM vacancies\n",
        "    UNION\n",
        "    SELECT\n",
        "        'AVG maximum salary' :: text AS salary,\n",
        "        ROUND(AVG(salary_to)) AS Amount\n",
        "    FROM vacancies\n",
        "    UNION\n",
        "    SELECT\n",
        "        'Salary spread' :: text AS salary,\n",
        "        ROUND(AVG(salary_to)) - ROUND(AVG(salary_from)) AS Amount\n",
        "    FROM vacancies\n",
        "    UNION\n",
        "    SELECT\n",
        "        '% spread to min salary' :: text AS salary,\n",
        "        ROUND((ROUND(AVG(salary_to)) - ROUND(AVG(salary_from))) / ROUND(AVG(salary_from)) * 100, 2) AS Amount\n",
        "    FROM vacancies\n",
        "    ORDER BY amount;                 \n",
        "        '''"
      ]
    },
    {
      "cell_type": "code",
      "execution_count": 21,
      "id": "pswpAb66ovZZ",
      "metadata": {
        "id": "pswpAb66ovZZ"
      },
      "outputs": [
        {
          "data": {
            "text/html": [
              "<div>\n",
              "<style scoped>\n",
              "    .dataframe tbody tr th:only-of-type {\n",
              "        vertical-align: middle;\n",
              "    }\n",
              "\n",
              "    .dataframe tbody tr th {\n",
              "        vertical-align: top;\n",
              "    }\n",
              "\n",
              "    .dataframe thead th {\n",
              "        text-align: right;\n",
              "    }\n",
              "</style>\n",
              "<table border=\"1\" class=\"dataframe\">\n",
              "  <thead>\n",
              "    <tr style=\"text-align: right;\">\n",
              "      <th></th>\n",
              "      <th>salary</th>\n",
              "      <th>amount</th>\n",
              "    </tr>\n",
              "  </thead>\n",
              "  <tbody>\n",
              "    <tr>\n",
              "      <th>0</th>\n",
              "      <td>% spread to min salary</td>\n",
              "      <td>55.54</td>\n",
              "    </tr>\n",
              "    <tr>\n",
              "      <th>1</th>\n",
              "      <td>Salary spread</td>\n",
              "      <td>39472</td>\n",
              "    </tr>\n",
              "    <tr>\n",
              "      <th>2</th>\n",
              "      <td>AVG minimum salary</td>\n",
              "      <td>71065</td>\n",
              "    </tr>\n",
              "    <tr>\n",
              "      <th>3</th>\n",
              "      <td>AVG maximum salary</td>\n",
              "      <td>110537</td>\n",
              "    </tr>\n",
              "  </tbody>\n",
              "</table>\n",
              "</div>"
            ],
            "text/plain": [
              "                   salary  amount\n",
              "0  % spread to min salary   55.54\n",
              "1           Salary spread   39472\n",
              "2      AVG minimum salary   71065\n",
              "3      AVG maximum salary  110537"
            ]
          },
          "execution_count": 21,
          "metadata": {},
          "output_type": "execute_result"
        }
      ],
      "source": [
        "# Выполнение SQL-запроса и получение результата:\n",
        "result = conn.execute(text(query4_3)).fetchall()\n",
        "# Создание DataFrame из результата:\n",
        "df = pd.DataFrame(result)\n",
        "df"
      ]
    },
    {
      "attachments": {},
      "cell_type": "markdown",
      "id": "f3fdaec9-5fd3-4260-9cf5-1d7406b628a5",
      "metadata": {
        "id": "f3fdaec9-5fd3-4260-9cf5-1d7406b628a5"
      },
      "source": [
        "4. Напишите запрос, который выведет количество вакансий для каждого сочетания типа рабочего графика (schedule) и типа трудоустройства (employment), используемого в вакансиях. Результат отсортируйте по убыванию количества.\n"
      ]
    },
    {
      "cell_type": "code",
      "execution_count": 22,
      "id": "1ea710ec-871b-431e-9462-c7d0fd87011b",
      "metadata": {
        "id": "1ea710ec-871b-431e-9462-c7d0fd87011b"
      },
      "outputs": [],
      "source": [
        "# SQL запрос, выводящий кол-во вакансий \n",
        "# для каждого сочетания типа рабочего графика (schedule) и типа трудоустройства (employment). \n",
        "# Результат отсортирован по убыванию количества:\n",
        "query4_4 = '''\n",
        "    SELECT\n",
        "        schedule,\n",
        "        employment,\n",
        "        COUNT(id) AS nb_vacancies\n",
        "    FROM\n",
        "        vacancies\n",
        "    GROUP BY \n",
        "        schedule, employment\n",
        "    ORDER BY \n",
        "        nb_vacancies DESC;\n",
        "'''"
      ]
    },
    {
      "cell_type": "code",
      "execution_count": 23,
      "id": "lGUVqavdo4JQ",
      "metadata": {
        "id": "lGUVqavdo4JQ"
      },
      "outputs": [
        {
          "data": {
            "text/html": [
              "<div>\n",
              "<style scoped>\n",
              "    .dataframe tbody tr th:only-of-type {\n",
              "        vertical-align: middle;\n",
              "    }\n",
              "\n",
              "    .dataframe tbody tr th {\n",
              "        vertical-align: top;\n",
              "    }\n",
              "\n",
              "    .dataframe thead th {\n",
              "        text-align: right;\n",
              "    }\n",
              "</style>\n",
              "<table border=\"1\" class=\"dataframe\">\n",
              "  <thead>\n",
              "    <tr style=\"text-align: right;\">\n",
              "      <th></th>\n",
              "      <th>schedule</th>\n",
              "      <th>employment</th>\n",
              "      <th>nb_vacancies</th>\n",
              "    </tr>\n",
              "  </thead>\n",
              "  <tbody>\n",
              "    <tr>\n",
              "      <th>0</th>\n",
              "      <td>Полный день</td>\n",
              "      <td>Полная занятость</td>\n",
              "      <td>35367</td>\n",
              "    </tr>\n",
              "    <tr>\n",
              "      <th>1</th>\n",
              "      <td>Удаленная работа</td>\n",
              "      <td>Полная занятость</td>\n",
              "      <td>7802</td>\n",
              "    </tr>\n",
              "    <tr>\n",
              "      <th>2</th>\n",
              "      <td>Гибкий график</td>\n",
              "      <td>Полная занятость</td>\n",
              "      <td>1593</td>\n",
              "    </tr>\n",
              "    <tr>\n",
              "      <th>3</th>\n",
              "      <td>Удаленная работа</td>\n",
              "      <td>Частичная занятость</td>\n",
              "      <td>1312</td>\n",
              "    </tr>\n",
              "    <tr>\n",
              "      <th>4</th>\n",
              "      <td>Сменный график</td>\n",
              "      <td>Полная занятость</td>\n",
              "      <td>940</td>\n",
              "    </tr>\n",
              "    <tr>\n",
              "      <th>5</th>\n",
              "      <td>Полный день</td>\n",
              "      <td>Стажировка</td>\n",
              "      <td>569</td>\n",
              "    </tr>\n",
              "    <tr>\n",
              "      <th>6</th>\n",
              "      <td>Вахтовый метод</td>\n",
              "      <td>Полная занятость</td>\n",
              "      <td>367</td>\n",
              "    </tr>\n",
              "    <tr>\n",
              "      <th>7</th>\n",
              "      <td>Полный день</td>\n",
              "      <td>Частичная занятость</td>\n",
              "      <td>347</td>\n",
              "    </tr>\n",
              "    <tr>\n",
              "      <th>8</th>\n",
              "      <td>Гибкий график</td>\n",
              "      <td>Частичная занятость</td>\n",
              "      <td>312</td>\n",
              "    </tr>\n",
              "    <tr>\n",
              "      <th>9</th>\n",
              "      <td>Полный день</td>\n",
              "      <td>Проектная работа</td>\n",
              "      <td>141</td>\n",
              "    </tr>\n",
              "    <tr>\n",
              "      <th>10</th>\n",
              "      <td>Удаленная работа</td>\n",
              "      <td>Проектная работа</td>\n",
              "      <td>133</td>\n",
              "    </tr>\n",
              "    <tr>\n",
              "      <th>11</th>\n",
              "      <td>Гибкий график</td>\n",
              "      <td>Стажировка</td>\n",
              "      <td>116</td>\n",
              "    </tr>\n",
              "    <tr>\n",
              "      <th>12</th>\n",
              "      <td>Сменный график</td>\n",
              "      <td>Частичная занятость</td>\n",
              "      <td>101</td>\n",
              "    </tr>\n",
              "    <tr>\n",
              "      <th>13</th>\n",
              "      <td>Удаленная работа</td>\n",
              "      <td>Стажировка</td>\n",
              "      <td>64</td>\n",
              "    </tr>\n",
              "    <tr>\n",
              "      <th>14</th>\n",
              "      <td>Гибкий график</td>\n",
              "      <td>Проектная работа</td>\n",
              "      <td>18</td>\n",
              "    </tr>\n",
              "    <tr>\n",
              "      <th>15</th>\n",
              "      <td>Сменный график</td>\n",
              "      <td>Стажировка</td>\n",
              "      <td>12</td>\n",
              "    </tr>\n",
              "    <tr>\n",
              "      <th>16</th>\n",
              "      <td>Вахтовый метод</td>\n",
              "      <td>Проектная работа</td>\n",
              "      <td>2</td>\n",
              "    </tr>\n",
              "    <tr>\n",
              "      <th>17</th>\n",
              "      <td>Сменный график</td>\n",
              "      <td>Проектная работа</td>\n",
              "      <td>1</td>\n",
              "    </tr>\n",
              "  </tbody>\n",
              "</table>\n",
              "</div>"
            ],
            "text/plain": [
              "            schedule           employment  nb_vacancies\n",
              "0        Полный день     Полная занятость         35367\n",
              "1   Удаленная работа     Полная занятость          7802\n",
              "2      Гибкий график     Полная занятость          1593\n",
              "3   Удаленная работа  Частичная занятость          1312\n",
              "4     Сменный график     Полная занятость           940\n",
              "5        Полный день           Стажировка           569\n",
              "6     Вахтовый метод     Полная занятость           367\n",
              "7        Полный день  Частичная занятость           347\n",
              "8      Гибкий график  Частичная занятость           312\n",
              "9        Полный день     Проектная работа           141\n",
              "10  Удаленная работа     Проектная работа           133\n",
              "11     Гибкий график           Стажировка           116\n",
              "12    Сменный график  Частичная занятость           101\n",
              "13  Удаленная работа           Стажировка            64\n",
              "14     Гибкий график     Проектная работа            18\n",
              "15    Сменный график           Стажировка            12\n",
              "16    Вахтовый метод     Проектная работа             2\n",
              "17    Сменный график     Проектная работа             1"
            ]
          },
          "execution_count": 23,
          "metadata": {},
          "output_type": "execute_result"
        }
      ],
      "source": [
        "# Выполнение SQL-запроса и получение результата:\n",
        "result = conn.execute(text(query4_4)).fetchall()\n",
        "# Создание DataFrame из результата:\n",
        "df = pd.DataFrame(result)\n",
        "df"
      ]
    },
    {
      "attachments": {},
      "cell_type": "markdown",
      "id": "0136ffee-0ead-4a6b-b608-61d1c753a438",
      "metadata": {
        "id": "0136ffee-0ead-4a6b-b608-61d1c753a438"
      },
      "source": [
        "5. Напишите запрос, выводящий значения поля Требуемый опыт работы (experience) в порядке возрастания количества вакансий, в которых указан данный вариант опыта. "
      ]
    },
    {
      "cell_type": "code",
      "execution_count": 24,
      "id": "5b3a8e79-f7ab-4008-b767-12aea3a205ea",
      "metadata": {
        "id": "5b3a8e79-f7ab-4008-b767-12aea3a205ea"
      },
      "outputs": [],
      "source": [
        "# SQL запрос, выводящий значения поля Требуемый опыт работы (experience)\n",
        "# в порядке возрастания количества вакансий, в которых указан данный вариант опыта:\n",
        "query4_5 = '''\n",
        "    SELECT\n",
        "        experience,\n",
        "        COUNT(id) AS nb_vacancies\n",
        "    FROM \n",
        "        vacancies\n",
        "    GROUP BY \n",
        "        experience\n",
        "    ORDER BY \n",
        "        nb_vacancies ASC;\n",
        "'''"
      ]
    },
    {
      "cell_type": "code",
      "execution_count": 25,
      "id": "3Is64Y-hpDpq",
      "metadata": {
        "id": "3Is64Y-hpDpq"
      },
      "outputs": [
        {
          "data": {
            "text/html": [
              "<div>\n",
              "<style scoped>\n",
              "    .dataframe tbody tr th:only-of-type {\n",
              "        vertical-align: middle;\n",
              "    }\n",
              "\n",
              "    .dataframe tbody tr th {\n",
              "        vertical-align: top;\n",
              "    }\n",
              "\n",
              "    .dataframe thead th {\n",
              "        text-align: right;\n",
              "    }\n",
              "</style>\n",
              "<table border=\"1\" class=\"dataframe\">\n",
              "  <thead>\n",
              "    <tr style=\"text-align: right;\">\n",
              "      <th></th>\n",
              "      <th>experience</th>\n",
              "      <th>nb_vacancies</th>\n",
              "    </tr>\n",
              "  </thead>\n",
              "  <tbody>\n",
              "    <tr>\n",
              "      <th>0</th>\n",
              "      <td>Более 6 лет</td>\n",
              "      <td>1337</td>\n",
              "    </tr>\n",
              "    <tr>\n",
              "      <th>1</th>\n",
              "      <td>Нет опыта</td>\n",
              "      <td>7197</td>\n",
              "    </tr>\n",
              "    <tr>\n",
              "      <th>2</th>\n",
              "      <td>От 3 до 6 лет</td>\n",
              "      <td>14511</td>\n",
              "    </tr>\n",
              "    <tr>\n",
              "      <th>3</th>\n",
              "      <td>От 1 года до 3 лет</td>\n",
              "      <td>26152</td>\n",
              "    </tr>\n",
              "  </tbody>\n",
              "</table>\n",
              "</div>"
            ],
            "text/plain": [
              "           experience  nb_vacancies\n",
              "0         Более 6 лет          1337\n",
              "1           Нет опыта          7197\n",
              "2       От 3 до 6 лет         14511\n",
              "3  От 1 года до 3 лет         26152"
            ]
          },
          "execution_count": 25,
          "metadata": {},
          "output_type": "execute_result"
        }
      ],
      "source": [
        "# Выполнение SQL-запроса и получение результата:\n",
        "result = conn.execute(text(query4_5)).fetchall()\n",
        "# Создание DataFrame из результата:\n",
        "df = pd.DataFrame(result)\n",
        "df"
      ]
    },
    {
      "cell_type": "markdown",
      "id": "e0d094bb",
      "metadata": {},
      "source": [
        "Дополнительное исследование 1: Регионы по разнообразию сфер деятельности"
      ]
    },
    {
      "cell_type": "code",
      "execution_count": 26,
      "id": "659dbaee",
      "metadata": {},
      "outputs": [],
      "source": [
        "# SQL-запрос для ранжирования регионов по разнообразию сфер деятельности\n",
        "query4_A1 = '''\n",
        "     SELECT \n",
        "          a.name AS area,\n",
        "          COUNT (DISTINCT v.employer_id) AS nb_employers,\n",
        "          COUNT (DISTINCT ei.industry_id) AS nb_industries\n",
        "     FROM \n",
        "          areas AS a\n",
        "     LEFT JOIN\n",
        "          vacancies AS v ON a.id = v.area_id\n",
        "     LEFT JOIN\n",
        "          employers_industries AS ei ON v.employer_id = ei.employer_id\n",
        "     GROUP BY\n",
        "          area\n",
        "     ORDER BY\n",
        "          nb_industries DESC;\n",
        "         '''"
      ]
    },
    {
      "cell_type": "code",
      "execution_count": 27,
      "id": "ba820f3f",
      "metadata": {},
      "outputs": [
        {
          "data": {
            "text/html": [
              "<div>\n",
              "<style scoped>\n",
              "    .dataframe tbody tr th:only-of-type {\n",
              "        vertical-align: middle;\n",
              "    }\n",
              "\n",
              "    .dataframe tbody tr th {\n",
              "        vertical-align: top;\n",
              "    }\n",
              "\n",
              "    .dataframe thead th {\n",
              "        text-align: right;\n",
              "    }\n",
              "</style>\n",
              "<table border=\"1\" class=\"dataframe\">\n",
              "  <thead>\n",
              "    <tr style=\"text-align: right;\">\n",
              "      <th></th>\n",
              "      <th>area</th>\n",
              "      <th>nb_employers</th>\n",
              "      <th>nb_industries</th>\n",
              "    </tr>\n",
              "  </thead>\n",
              "  <tbody>\n",
              "    <tr>\n",
              "      <th>0</th>\n",
              "      <td>Москва</td>\n",
              "      <td>2320</td>\n",
              "      <td>270</td>\n",
              "    </tr>\n",
              "    <tr>\n",
              "      <th>1</th>\n",
              "      <td>Санкт-Петербург</td>\n",
              "      <td>1451</td>\n",
              "      <td>255</td>\n",
              "    </tr>\n",
              "    <tr>\n",
              "      <th>2</th>\n",
              "      <td>Нижний Новгород</td>\n",
              "      <td>657</td>\n",
              "      <td>214</td>\n",
              "    </tr>\n",
              "    <tr>\n",
              "      <th>3</th>\n",
              "      <td>Екатеринбург</td>\n",
              "      <td>742</td>\n",
              "      <td>214</td>\n",
              "    </tr>\n",
              "    <tr>\n",
              "      <th>4</th>\n",
              "      <td>Новосибирск</td>\n",
              "      <td>802</td>\n",
              "      <td>212</td>\n",
              "    </tr>\n",
              "    <tr>\n",
              "      <th>5</th>\n",
              "      <td>Ростов-на-Дону</td>\n",
              "      <td>487</td>\n",
              "      <td>199</td>\n",
              "    </tr>\n",
              "    <tr>\n",
              "      <th>6</th>\n",
              "      <td>Краснодар</td>\n",
              "      <td>578</td>\n",
              "      <td>197</td>\n",
              "    </tr>\n",
              "    <tr>\n",
              "      <th>7</th>\n",
              "      <td>Алматы</td>\n",
              "      <td>798</td>\n",
              "      <td>196</td>\n",
              "    </tr>\n",
              "    <tr>\n",
              "      <th>8</th>\n",
              "      <td>Самара</td>\n",
              "      <td>473</td>\n",
              "      <td>191</td>\n",
              "    </tr>\n",
              "    <tr>\n",
              "      <th>9</th>\n",
              "      <td>Казань</td>\n",
              "      <td>609</td>\n",
              "      <td>180</td>\n",
              "    </tr>\n",
              "  </tbody>\n",
              "</table>\n",
              "</div>"
            ],
            "text/plain": [
              "              area  nb_employers  nb_industries\n",
              "0           Москва          2320            270\n",
              "1  Санкт-Петербург          1451            255\n",
              "2  Нижний Новгород           657            214\n",
              "3     Екатеринбург           742            214\n",
              "4      Новосибирск           802            212\n",
              "5   Ростов-на-Дону           487            199\n",
              "6        Краснодар           578            197\n",
              "7           Алматы           798            196\n",
              "8           Самара           473            191\n",
              "9           Казань           609            180"
            ]
          },
          "execution_count": 27,
          "metadata": {},
          "output_type": "execute_result"
        }
      ],
      "source": [
        "# Выполнение SQL-запроса и получение результата:\n",
        "result = conn.execute(text(query4_A1)).fetchmany(10)\n",
        "# Создание DataFrame из результата:\n",
        "df = pd.DataFrame(result)\n",
        "df"
      ]
    },
    {
      "attachments": {},
      "cell_type": "markdown",
      "id": "oq2b7n1QpIka",
      "metadata": {
        "id": "oq2b7n1QpIka"
      },
      "source": [
        "***"
      ]
    },
    {
      "cell_type": "markdown",
      "id": "e91f87ed-e25c-4f96-9f92-b642e8c0b4fa",
      "metadata": {
        "id": "e91f87ed-e25c-4f96-9f92-b642e8c0b4fa"
      },
      "source": [
        "## Выводы по детальному анализу вакансий ##\n",
        "### Регионы по количеству вакансий ###\n",
        "\n",
        "Топ 10 регионов по количеству вакансий - Москва\t(5333), Санкт-Петербург\t(2851),\tМинск (2112), Новосибирск (2006), Алматы (1892), Екатеринбург\t(1698), Нижний Новгород\t(1670),\tКазань (1415), Краснодар (1301), Самара (1144). Города, входящие в этот список (разумеется, кроме столиц Республики Беларусь и Республики Казахстан), представляют собой крупнейшие административные, промышленные и финансовые центры как своих регионов, так и РФ в общем. Кроме того, необходимо отметить значительный отрыв (почти в 2,5 раза) Москвы по количеству вакансий от следующего города - Санкт-Петербурга при том, что разрыв между всеми последующими городами является значительно меньшим.\n",
        "\n",
        "### Зарплатные предложения ###\n",
        "Количество вакансий с указанием зарплаты (24073) составляет менее половины от общего числа опубликованых вакансий (49197).\n",
        "Среднее значение максимальной зарплаты составляет 110537 руб. Среднее значение минимальной зарплаты - 71065 руб. Спрэд зарплатных предложений составляет 39472 руб. Средняя максимальная зарплата на 55,54 % выше средней минимальной зарплаты. \n",
        "\n",
        "### Распределение вакансий по типу занятости и графика ###\n",
        "Количество вакансий для каждого типа занятости - наибольшее количество вакансий приходится на полную занятость. \n",
        "Первое место - у сочетания полная занятость и полный рабочий день, затем полная занятость - гибкий график,\n",
        "на третьем месте - гибкий график. Наименьшее количество вакансий по типу занятости проектная работа, \n",
        "Bottom-3 таблицы представляет собой, на последнем месте, проектная работа - сменный график,\n",
        "над ним - проектная работа - вахтовый метод, на третьем снизу месте - стажировка - сменный график. Это говорит о том, что организация труда на большинстве предприятий не предполагает гибкости работы, что может быть связанно либо с особенностями производственного процесса на предприятии (особенно касается реального сектора экономики и ряда секторов сферы услуг), либо с привычкой как работодателей, так и соискателей, мало изменившейся несмотря на опыт периода ковидных ограничений.  \n",
        "\n",
        "### Требования к опыту работы ###\n",
        "Больше всего вакансий относительно требований к опыту работы приходится на опыт от 1 до 3-х лет (26152), затем, почти вдвое меньше, \n",
        "вакансий с требованием к опыту работы 3-6 лет (14511), меньше всего вакансий для людей с опытом работы свыше 6 лет. О причинах такого распределения сложно судить, но, скорее всего, предприятия предпочитают набирать на работу молодых квалифицированных сотрудников с изначально меньшими зарплатными требованиями, которых можно легче обучить работе в условиях конкретного предприятия и легче встроить в уже существующие производственные процессы.\n",
        "\n",
        "### Регионы по разнообразию сфер деятельности работодателей ###\n",
        "Прежде всего, необходимо уточнить, что разнообразие сфер деятельности описывает работодателей а не вакансии, так как в самих вакансиях сфера деятельности не указывается. Однако, косвенно это также помогает определить и разнообразие сфер деятельности в предлагаемых вакансиях.\n",
        "Позиции регионов по разнообразию сфер деятельности работодателей, публикующих объявления, несколько отличается от топ-10 по количеству вакансий. Первые 2 места по-прежнему занимают Москва (270 из 294-х существующих сфер деятельности) и Санкт-Петербург (255), за которыми следуют Нижний Новгород и Екатеринбург (214), затем Новосибирск (212), Ростов-на-Дону (199), Краснодар (197), столица Республики Казахстан Алматы (196), Самара (191), Казань (180). При этом необходимо отметить, что это разнообразие сфер деятельности не коррелирует с количеством работодателей в регионе.\n"
      ]
    },
    {
      "attachments": {},
      "cell_type": "markdown",
      "id": "7ea20ab6-04a7-40a0-adec-443a0e5a42c3",
      "metadata": {
        "id": "7ea20ab6-04a7-40a0-adec-443a0e5a42c3"
      },
      "source": [
        "# Юнит 5. Анализ работодателей"
      ]
    },
    {
      "attachments": {},
      "cell_type": "markdown",
      "id": "968aed80-74ef-4ffb-b5bf-c65b84e9caea",
      "metadata": {
        "id": "968aed80-74ef-4ffb-b5bf-c65b84e9caea"
      },
      "source": [
        "1. Напишите запрос, который позволит узнать, какие работодатели находятся на первом и пятом месте по количеству вакансий."
      ]
    },
    {
      "cell_type": "code",
      "execution_count": 28,
      "id": "f2d62796-d400-4ec1-a675-88112739a50e",
      "metadata": {
        "id": "f2d62796-d400-4ec1-a675-88112739a50e"
      },
      "outputs": [],
      "source": [
        "# SQL запрос, позволяющий узнать, какие работодатели находятся на первом и пятом месте по количеству вакансий.\n",
        "query5_1 = '''\n",
        "    SELECT\n",
        "        e.name AS employer_name,\n",
        "        COUNT(v.id) AS nb_vacancies \n",
        "    FROM \n",
        "        employers AS e\n",
        "    JOIN vacancies AS v ON e.id = v.employer_id\n",
        "    GROUP BY \n",
        "        e.name\n",
        "    ORDER BY \n",
        "        nb_vacancies DESC\n",
        "    LIMIT 5;\n",
        "'''"
      ]
    },
    {
      "cell_type": "code",
      "execution_count": 29,
      "id": "64tOMkAxqkQk",
      "metadata": {
        "id": "64tOMkAxqkQk"
      },
      "outputs": [
        {
          "data": {
            "text/html": [
              "<div>\n",
              "<style scoped>\n",
              "    .dataframe tbody tr th:only-of-type {\n",
              "        vertical-align: middle;\n",
              "    }\n",
              "\n",
              "    .dataframe tbody tr th {\n",
              "        vertical-align: top;\n",
              "    }\n",
              "\n",
              "    .dataframe thead th {\n",
              "        text-align: right;\n",
              "    }\n",
              "</style>\n",
              "<table border=\"1\" class=\"dataframe\">\n",
              "  <thead>\n",
              "    <tr style=\"text-align: right;\">\n",
              "      <th></th>\n",
              "      <th>employer_name</th>\n",
              "      <th>nb_vacancies</th>\n",
              "    </tr>\n",
              "  </thead>\n",
              "  <tbody>\n",
              "    <tr>\n",
              "      <th>0</th>\n",
              "      <td>Яндекс</td>\n",
              "      <td>1933</td>\n",
              "    </tr>\n",
              "    <tr>\n",
              "      <th>1</th>\n",
              "      <td>Ростелеком</td>\n",
              "      <td>491</td>\n",
              "    </tr>\n",
              "    <tr>\n",
              "      <th>2</th>\n",
              "      <td>Тинькофф</td>\n",
              "      <td>444</td>\n",
              "    </tr>\n",
              "    <tr>\n",
              "      <th>3</th>\n",
              "      <td>СБЕР</td>\n",
              "      <td>428</td>\n",
              "    </tr>\n",
              "    <tr>\n",
              "      <th>4</th>\n",
              "      <td>Газпром нефть</td>\n",
              "      <td>331</td>\n",
              "    </tr>\n",
              "  </tbody>\n",
              "</table>\n",
              "</div>"
            ],
            "text/plain": [
              "   employer_name  nb_vacancies\n",
              "0         Яндекс          1933\n",
              "1     Ростелеком           491\n",
              "2       Тинькофф           444\n",
              "3           СБЕР           428\n",
              "4  Газпром нефть           331"
            ]
          },
          "execution_count": 29,
          "metadata": {},
          "output_type": "execute_result"
        }
      ],
      "source": [
        "# Выполнение SQL-запроса и получение результата:\n",
        "result = conn.execute(text(query5_1)).fetchall()\n",
        "# Создание DataFrame из результата:\n",
        "df = pd.DataFrame(result)\n",
        "df"
      ]
    },
    {
      "attachments": {},
      "cell_type": "markdown",
      "id": "68377cfc-b378-43dc-ab7d-1195abf2c515",
      "metadata": {
        "id": "68377cfc-b378-43dc-ab7d-1195abf2c515"
      },
      "source": [
        "2. Напишите запрос, который для каждого региона выведет количество работодателей и вакансий в нём.\n",
        "Среди регионов, в которых нет вакансий, найдите тот, в котором наибольшее количество работодателей.\n"
      ]
    },
    {
      "cell_type": "code",
      "execution_count": 30,
      "id": "dd7df27a-e3e8-412e-a21a-5d389b71e891",
      "metadata": {
        "id": "dd7df27a-e3e8-412e-a21a-5d389b71e891"
      },
      "outputs": [],
      "source": [
        "# SQL запрос, который для каждого региона выведет количество работодателей и вакансий в нём. \n",
        "# Среди регионов, в которых нет вакансий, найдите тот, в котором наибольшее количество работодателей.\n",
        "query5_2 = '''\n",
        "    SELECT\n",
        "        a.name AS area,\n",
        "        COUNT(DISTINCT e.id) AS nb_employers,\n",
        "        COUNT(v.id) AS nb_vacancies\n",
        "    FROM \n",
        "        areas AS a\n",
        "    LEFT JOIN employers AS e ON e.area = a.id\n",
        "    LEFT JOIN vacancies AS v ON v.area_id = a.id\n",
        "    WHERE \n",
        "        v.id IS NULL\n",
        "    GROUP BY \n",
        "        a.name\n",
        "    ORDER BY \n",
        "        nb_employers DESC;\n",
        "'''"
      ]
    },
    {
      "cell_type": "code",
      "execution_count": 31,
      "id": "x1ikWbydrbf6",
      "metadata": {
        "id": "x1ikWbydrbf6"
      },
      "outputs": [
        {
          "data": {
            "text/html": [
              "<div>\n",
              "<style scoped>\n",
              "    .dataframe tbody tr th:only-of-type {\n",
              "        vertical-align: middle;\n",
              "    }\n",
              "\n",
              "    .dataframe tbody tr th {\n",
              "        vertical-align: top;\n",
              "    }\n",
              "\n",
              "    .dataframe thead th {\n",
              "        text-align: right;\n",
              "    }\n",
              "</style>\n",
              "<table border=\"1\" class=\"dataframe\">\n",
              "  <thead>\n",
              "    <tr style=\"text-align: right;\">\n",
              "      <th></th>\n",
              "      <th>area</th>\n",
              "      <th>nb_employers</th>\n",
              "      <th>nb_vacancies</th>\n",
              "    </tr>\n",
              "  </thead>\n",
              "  <tbody>\n",
              "    <tr>\n",
              "      <th>0</th>\n",
              "      <td>Россия</td>\n",
              "      <td>410</td>\n",
              "      <td>0</td>\n",
              "    </tr>\n",
              "    <tr>\n",
              "      <th>1</th>\n",
              "      <td>Казахстан</td>\n",
              "      <td>207</td>\n",
              "      <td>0</td>\n",
              "    </tr>\n",
              "    <tr>\n",
              "      <th>2</th>\n",
              "      <td>Московская область</td>\n",
              "      <td>75</td>\n",
              "      <td>0</td>\n",
              "    </tr>\n",
              "    <tr>\n",
              "      <th>3</th>\n",
              "      <td>Краснодарский край</td>\n",
              "      <td>19</td>\n",
              "      <td>0</td>\n",
              "    </tr>\n",
              "    <tr>\n",
              "      <th>4</th>\n",
              "      <td>Беларусь</td>\n",
              "      <td>18</td>\n",
              "      <td>0</td>\n",
              "    </tr>\n",
              "    <tr>\n",
              "      <th>...</th>\n",
              "      <td>...</td>\n",
              "      <td>...</td>\n",
              "      <td>...</td>\n",
              "    </tr>\n",
              "    <tr>\n",
              "      <th>588</th>\n",
              "      <td>Кувандык</td>\n",
              "      <td>0</td>\n",
              "      <td>0</td>\n",
              "    </tr>\n",
              "    <tr>\n",
              "      <th>589</th>\n",
              "      <td>Куйбышев</td>\n",
              "      <td>0</td>\n",
              "      <td>0</td>\n",
              "    </tr>\n",
              "    <tr>\n",
              "      <th>590</th>\n",
              "      <td>Куйбышево (Ростовская область)</td>\n",
              "      <td>0</td>\n",
              "      <td>0</td>\n",
              "    </tr>\n",
              "    <tr>\n",
              "      <th>591</th>\n",
              "      <td>Култаево</td>\n",
              "      <td>0</td>\n",
              "      <td>0</td>\n",
              "    </tr>\n",
              "    <tr>\n",
              "      <th>592</th>\n",
              "      <td>Кульсары</td>\n",
              "      <td>0</td>\n",
              "      <td>0</td>\n",
              "    </tr>\n",
              "  </tbody>\n",
              "</table>\n",
              "<p>593 rows × 3 columns</p>\n",
              "</div>"
            ],
            "text/plain": [
              "                               area  nb_employers  nb_vacancies\n",
              "0                            Россия           410             0\n",
              "1                         Казахстан           207             0\n",
              "2                Московская область            75             0\n",
              "3                Краснодарский край            19             0\n",
              "4                          Беларусь            18             0\n",
              "..                              ...           ...           ...\n",
              "588                        Кувандык             0             0\n",
              "589                        Куйбышев             0             0\n",
              "590  Куйбышево (Ростовская область)             0             0\n",
              "591                        Култаево             0             0\n",
              "592                        Кульсары             0             0\n",
              "\n",
              "[593 rows x 3 columns]"
            ]
          },
          "execution_count": 31,
          "metadata": {},
          "output_type": "execute_result"
        }
      ],
      "source": [
        "# Выполнение SQL-запроса и получение результата:\n",
        "result = conn.execute(text(query5_2)).fetchall()\n",
        "# Создание DataFrame из результата:\n",
        "df = pd.DataFrame(result)\n",
        "df"
      ]
    },
    {
      "attachments": {},
      "cell_type": "markdown",
      "id": "f2fe0acb-ab1a-4e15-9326-2560e22d73c1",
      "metadata": {
        "id": "f2fe0acb-ab1a-4e15-9326-2560e22d73c1"
      },
      "source": [
        "3. Для каждого работодателя посчитайте количество регионов, в которых он публикует свои вакансии. Отсортируйте результат по убыванию количества.\n"
      ]
    },
    {
      "cell_type": "code",
      "execution_count": 32,
      "id": "6271f8ad-bd2e-4196-ae4a-5b39c4c1010e",
      "metadata": {
        "id": "6271f8ad-bd2e-4196-ae4a-5b39c4c1010e"
      },
      "outputs": [],
      "source": [
        "# SQL запрос, считающий количество регионов где каждый работодатель публикует свои вакансии\n",
        "# и сортирующий результат по убыванию количества:\n",
        "query5_3 = '''\n",
        "    SELECT \n",
        "        e.name AS employer,\n",
        "        COUNT(DISTINCT area_id) AS nb_area\n",
        "    FROM\n",
        "        vacancies AS v \n",
        "    JOIN employers AS e ON v.employer_id = e.id\n",
        "    GROUP BY \n",
        "        e.name \n",
        "    ORDER BY \n",
        "        nb_area DESC;\n",
        "'''"
      ]
    },
    {
      "cell_type": "code",
      "execution_count": 33,
      "id": "1EIvX3HasH4F",
      "metadata": {
        "id": "1EIvX3HasH4F"
      },
      "outputs": [
        {
          "data": {
            "text/html": [
              "<div>\n",
              "<style scoped>\n",
              "    .dataframe tbody tr th:only-of-type {\n",
              "        vertical-align: middle;\n",
              "    }\n",
              "\n",
              "    .dataframe tbody tr th {\n",
              "        vertical-align: top;\n",
              "    }\n",
              "\n",
              "    .dataframe thead th {\n",
              "        text-align: right;\n",
              "    }\n",
              "</style>\n",
              "<table border=\"1\" class=\"dataframe\">\n",
              "  <thead>\n",
              "    <tr style=\"text-align: right;\">\n",
              "      <th></th>\n",
              "      <th>employer</th>\n",
              "      <th>nb_area</th>\n",
              "    </tr>\n",
              "  </thead>\n",
              "  <tbody>\n",
              "    <tr>\n",
              "      <th>0</th>\n",
              "      <td>Яндекс</td>\n",
              "      <td>181</td>\n",
              "    </tr>\n",
              "    <tr>\n",
              "      <th>1</th>\n",
              "      <td>Ростелеком</td>\n",
              "      <td>152</td>\n",
              "    </tr>\n",
              "    <tr>\n",
              "      <th>2</th>\n",
              "      <td>Спецремонт</td>\n",
              "      <td>116</td>\n",
              "    </tr>\n",
              "    <tr>\n",
              "      <th>3</th>\n",
              "      <td>Поляков Денис Иванович</td>\n",
              "      <td>88</td>\n",
              "    </tr>\n",
              "    <tr>\n",
              "      <th>4</th>\n",
              "      <td>ООО ЕФИН</td>\n",
              "      <td>71</td>\n",
              "    </tr>\n",
              "    <tr>\n",
              "      <th>...</th>\n",
              "      <td>...</td>\n",
              "      <td>...</td>\n",
              "    </tr>\n",
              "    <tr>\n",
              "      <th>14761</th>\n",
              "      <td>UniSol</td>\n",
              "      <td>1</td>\n",
              "    </tr>\n",
              "    <tr>\n",
              "      <th>14762</th>\n",
              "      <td>UNISTORY LLC</td>\n",
              "      <td>1</td>\n",
              "    </tr>\n",
              "    <tr>\n",
              "      <th>14763</th>\n",
              "      <td>UNIT6</td>\n",
              "      <td>1</td>\n",
              "    </tr>\n",
              "    <tr>\n",
              "      <th>14764</th>\n",
              "      <td>United Distribution</td>\n",
              "      <td>1</td>\n",
              "    </tr>\n",
              "    <tr>\n",
              "      <th>14765</th>\n",
              "      <td>UNITEL LLC</td>\n",
              "      <td>1</td>\n",
              "    </tr>\n",
              "  </tbody>\n",
              "</table>\n",
              "<p>14766 rows × 2 columns</p>\n",
              "</div>"
            ],
            "text/plain": [
              "                     employer  nb_area\n",
              "0                      Яндекс      181\n",
              "1                  Ростелеком      152\n",
              "2                  Спецремонт      116\n",
              "3      Поляков Денис Иванович       88\n",
              "4                   ООО ЕФИН        71\n",
              "...                       ...      ...\n",
              "14761                  UniSol        1\n",
              "14762            UNISTORY LLC        1\n",
              "14763                   UNIT6        1\n",
              "14764     United Distribution        1\n",
              "14765              UNITEL LLC        1\n",
              "\n",
              "[14766 rows x 2 columns]"
            ]
          },
          "execution_count": 33,
          "metadata": {},
          "output_type": "execute_result"
        }
      ],
      "source": [
        "# Выполнение SQL-запроса и получение результата:\n",
        "result = conn.execute(text(query5_3)).fetchall()\n",
        "# Создание DataFrame из результата:\n",
        "df = pd.DataFrame(result)\n",
        "df"
      ]
    },
    {
      "attachments": {},
      "cell_type": "markdown",
      "id": "eab2206d-d95b-468b-8e5f-34381abf0ce7",
      "metadata": {
        "id": "eab2206d-d95b-468b-8e5f-34381abf0ce7"
      },
      "source": [
        "4. Напишите запрос для подсчёта количества работодателей, у которых не указана сфера деятельности. "
      ]
    },
    {
      "cell_type": "code",
      "execution_count": 34,
      "id": "80defb23-bfb1-4a18-8be6-bf36aa7165d5",
      "metadata": {
        "id": "80defb23-bfb1-4a18-8be6-bf36aa7165d5"
      },
      "outputs": [],
      "source": [
        "# SQL запрос для подсчёта количества работодателей, у которых не указана сфера деятельности.\n",
        "query5_4 = '''\n",
        "    SELECT\n",
        "        COUNT(DISTINCT(e.id)) AS nb_employers\n",
        "    FROM\n",
        "        employers AS e\n",
        "    LEFT JOIN employers_industries AS ei ON e.id = ei.employer_id \n",
        "    WHERE \n",
        "        ei.industry_id IS NULL;\n",
        "'''"
      ]
    },
    {
      "cell_type": "code",
      "execution_count": 35,
      "id": "Dp_yCx6ysQSu",
      "metadata": {
        "id": "Dp_yCx6ysQSu"
      },
      "outputs": [
        {
          "data": {
            "text/html": [
              "<div>\n",
              "<style scoped>\n",
              "    .dataframe tbody tr th:only-of-type {\n",
              "        vertical-align: middle;\n",
              "    }\n",
              "\n",
              "    .dataframe tbody tr th {\n",
              "        vertical-align: top;\n",
              "    }\n",
              "\n",
              "    .dataframe thead th {\n",
              "        text-align: right;\n",
              "    }\n",
              "</style>\n",
              "<table border=\"1\" class=\"dataframe\">\n",
              "  <thead>\n",
              "    <tr style=\"text-align: right;\">\n",
              "      <th></th>\n",
              "      <th>nb_employers</th>\n",
              "    </tr>\n",
              "  </thead>\n",
              "  <tbody>\n",
              "    <tr>\n",
              "      <th>0</th>\n",
              "      <td>8419</td>\n",
              "    </tr>\n",
              "  </tbody>\n",
              "</table>\n",
              "</div>"
            ],
            "text/plain": [
              "   nb_employers\n",
              "0          8419"
            ]
          },
          "execution_count": 35,
          "metadata": {},
          "output_type": "execute_result"
        }
      ],
      "source": [
        "# Выполнение SQL-запроса и получение результата:\n",
        "result = conn.execute(text(query5_4)).fetchall()\n",
        "# Создание DataFrame из результата:\n",
        "df = pd.DataFrame(result)\n",
        "df"
      ]
    },
    {
      "attachments": {},
      "cell_type": "markdown",
      "id": "0112af31-f6b0-4e3b-82ab-71296e752e5e",
      "metadata": {
        "id": "0112af31-f6b0-4e3b-82ab-71296e752e5e"
      },
      "source": [
        "5. Напишите запрос, чтобы узнать название компании, находящейся на третьем месте в алфавитном списке (по названию) компаний, у которых указано четыре сферы деятельности. "
      ]
    },
    {
      "cell_type": "code",
      "execution_count": 36,
      "id": "973b0cfc-a972-470a-8b4a-68744ef220c4",
      "metadata": {
        "id": "973b0cfc-a972-470a-8b4a-68744ef220c4"
      },
      "outputs": [],
      "source": [
        "# SQL запрос, выводящий название компании, находящейся на третьем месте в алфавитном списке (по названию) компаний, \n",
        "# у которых указано четыре сферы деятельности.\n",
        "query5_5 = '''\n",
        "    SELECT\n",
        "        e.name\n",
        "    FROM\n",
        "        employers AS e\n",
        "    LEFT JOIN employers_industries AS ei ON e.id = ei.employer_id \n",
        "    GROUP BY \n",
        "        e.name\n",
        "    HAVING \n",
        "        COUNT(ei.industry_id) = 4\n",
        "    ORDER BY \n",
        "        e.name\n",
        "    LIMIT 3;\n",
        "'''"
      ]
    },
    {
      "cell_type": "code",
      "execution_count": 37,
      "id": "xsPtpp8EsaED",
      "metadata": {
        "id": "xsPtpp8EsaED"
      },
      "outputs": [
        {
          "data": {
            "text/html": [
              "<div>\n",
              "<style scoped>\n",
              "    .dataframe tbody tr th:only-of-type {\n",
              "        vertical-align: middle;\n",
              "    }\n",
              "\n",
              "    .dataframe tbody tr th {\n",
              "        vertical-align: top;\n",
              "    }\n",
              "\n",
              "    .dataframe thead th {\n",
              "        text-align: right;\n",
              "    }\n",
              "</style>\n",
              "<table border=\"1\" class=\"dataframe\">\n",
              "  <thead>\n",
              "    <tr style=\"text-align: right;\">\n",
              "      <th></th>\n",
              "      <th>name</th>\n",
              "    </tr>\n",
              "  </thead>\n",
              "  <tbody>\n",
              "    <tr>\n",
              "      <th>0</th>\n",
              "      <td>101 Интернет</td>\n",
              "    </tr>\n",
              "    <tr>\n",
              "      <th>1</th>\n",
              "      <td>21vek.by</td>\n",
              "    </tr>\n",
              "    <tr>\n",
              "      <th>2</th>\n",
              "      <td>2ГИС</td>\n",
              "    </tr>\n",
              "  </tbody>\n",
              "</table>\n",
              "</div>"
            ],
            "text/plain": [
              "           name\n",
              "0  101 Интернет\n",
              "1      21vek.by\n",
              "2          2ГИС"
            ]
          },
          "execution_count": 37,
          "metadata": {},
          "output_type": "execute_result"
        }
      ],
      "source": [
        "# Выполнение SQL-запроса и получение результата:\n",
        "result = conn.execute(text(query5_5)).fetchall()\n",
        "# Создание DataFrame из результата:\n",
        "df = pd.DataFrame(result)\n",
        "df"
      ]
    },
    {
      "attachments": {},
      "cell_type": "markdown",
      "id": "3bfcfdaf-755d-4d2b-8ed8-326201dc07ab",
      "metadata": {
        "id": "3bfcfdaf-755d-4d2b-8ed8-326201dc07ab"
      },
      "source": [
        "6. С помощью запроса выясните, у какого количества работодателей в качестве сферы деятельности указана Разработка программного обеспечения.\n"
      ]
    },
    {
      "cell_type": "code",
      "execution_count": 38,
      "id": "ad3f270f-2991-47eb-929b-e8f88a55b0d1",
      "metadata": {
        "id": "ad3f270f-2991-47eb-929b-e8f88a55b0d1"
      },
      "outputs": [],
      "source": [
        "# SQL-запрос для определения кол-ва работодателей со сферой деятельности \"Разработка программного обеспечения\"\n",
        "query5_6 = '''\n",
        "    SELECT\n",
        "        COUNT(DISTINCT(ei.employer_id))\n",
        "    FROM\n",
        "        employers_industries as ei\n",
        "    LEFT JOIN industries AS i ON ei.industry_id = i.id\n",
        "    WHERE \n",
        "        i.name = 'Разработка программного обеспечения';\n",
        "'''"
      ]
    },
    {
      "cell_type": "code",
      "execution_count": 39,
      "id": "H72qxWM0shPR",
      "metadata": {
        "id": "H72qxWM0shPR"
      },
      "outputs": [
        {
          "data": {
            "text/html": [
              "<div>\n",
              "<style scoped>\n",
              "    .dataframe tbody tr th:only-of-type {\n",
              "        vertical-align: middle;\n",
              "    }\n",
              "\n",
              "    .dataframe tbody tr th {\n",
              "        vertical-align: top;\n",
              "    }\n",
              "\n",
              "    .dataframe thead th {\n",
              "        text-align: right;\n",
              "    }\n",
              "</style>\n",
              "<table border=\"1\" class=\"dataframe\">\n",
              "  <thead>\n",
              "    <tr style=\"text-align: right;\">\n",
              "      <th></th>\n",
              "      <th>count</th>\n",
              "    </tr>\n",
              "  </thead>\n",
              "  <tbody>\n",
              "    <tr>\n",
              "      <th>0</th>\n",
              "      <td>3553</td>\n",
              "    </tr>\n",
              "  </tbody>\n",
              "</table>\n",
              "</div>"
            ],
            "text/plain": [
              "   count\n",
              "0   3553"
            ]
          },
          "execution_count": 39,
          "metadata": {},
          "output_type": "execute_result"
        }
      ],
      "source": [
        "# Выполнение SQL-запроса и получение результата:\n",
        "result = conn.execute(text(query5_6)).fetchall()\n",
        "# Создание DataFrame из результата:\n",
        "df = pd.DataFrame(result)\n",
        "df"
      ]
    },
    {
      "attachments": {},
      "cell_type": "markdown",
      "id": "7b02bb86-0546-40fb-94a4-242f050a5c57",
      "metadata": {
        "id": "7b02bb86-0546-40fb-94a4-242f050a5c57"
      },
      "source": [
        "7. Для компании «Яндекс» выведите список регионов-миллионников, в которых представлены вакансии компании, вместе с количеством вакансий в этих регионах. Также добавьте строку Total с общим количеством вакансий компании. Результат отсортируйте по возрастанию количества.\n",
        "\n",
        "Список городов-милионников надо взять [отсюда](https://ru.wikipedia.org/wiki/%D0%93%D0%BE%D1%80%D0%BE%D0%B4%D0%B0-%D0%BC%D0%B8%D0%BB%D0%BB%D0%B8%D0%BE%D0%BD%D0%B5%D1%80%D1%8B_%D0%A0%D0%BE%D1%81%D1%81%D0%B8%D0%B8). \n",
        "\n",
        "Если возникнут трудности с этим задание посмотрите материалы модуля  PYTHON-17. Как получать данные из веб-источников и API. "
      ]
    },
    {
      "cell_type": "code",
      "execution_count": 40,
      "id": "eeec7d4c",
      "metadata": {},
      "outputs": [],
      "source": [
        "# Приведение URL к виду, удобному для запроса страницы из Wikipedia с помощью библиотеки urllib:\n",
        "import urllib.parse as req \n",
        "\n",
        "path_common = req.urlparse('https://ru.wikipedia.org/wiki/Города-миллионеры_России#Список_городов-миллионеров')\n",
        "url = path_common.scheme + '://' + req.quote(path_common.netloc) +  req.quote(path_common.path) + '#'+ req.quote(path_common.fragment)"
      ]
    },
    {
      "cell_type": "code",
      "execution_count": 41,
      "id": "0d35f377",
      "metadata": {},
      "outputs": [
        {
          "name": "stdout",
          "output_type": "stream",
          "text": [
            "('Москва', 'Санкт-Петербург', 'Новосибирск', 'Екатеринбург', 'Казань', 'Нижний Новгород', 'Красноярск', 'Челябинск', 'Самара', 'Уфа', 'Ростов-на-Дону', 'Краснодар', 'Омск', 'Воронеж', 'Пермь', 'Волгоград')\n"
          ]
        }
      ],
      "source": [
        "# Помещение в кортеж названий городов, находящихся в таблице No. 1 (города-миллионеры)\n",
        "# и перечисленных в столбце с индексом 1 (названия городов):\n",
        "mil_cities = tuple(pd.read_html(url)[1].iloc[:, 1])\n",
        "print(mil_cities)"
      ]
    },
    {
      "cell_type": "code",
      "execution_count": 42,
      "id": "5a0e32a4-e68a-4365-8a39-2fe24c542c36",
      "metadata": {
        "id": "5a0e32a4-e68a-4365-8a39-2fe24c542c36"
      },
      "outputs": [],
      "source": [
        "# SQL-запрос выводящий список регионов-миллионников для компании \"Яндекс\" \n",
        "\n",
        "query5_7 = f'''\n",
        "    WITH yandex AS (                                        -- Создание подзапроса для упрощения общей структуры запроса\n",
        "        SELECT \n",
        "            a.name AS city_name,\n",
        "            COUNT(v.id) AS nb_vacancies\n",
        "        FROM \n",
        "            areas AS a\n",
        "        LEFT JOIN vacancies AS v ON a.id = v.area_id\n",
        "        LEFT JOIN employers AS e ON v.employer_id = e.id\n",
        "        WHERE \n",
        "            a.name IN {mil_cities} AND e.name = 'Яндекс'    -- Подключение к поиску кортежа полученного из Википедии\n",
        "        GROUP BY \n",
        "            city_name\n",
        "        ORDER BY \n",
        "            nb_vacancies)\n",
        "\n",
        "    SELECT \n",
        "        *\n",
        "    FROM \n",
        "        yandex                                              -- Обращение к подзапросу описанному выше\n",
        "    UNION ALL\n",
        "    SELECT\n",
        "        'Total', SUM (nb_vacancies)                         -- Добавление строки \"Сумма\" \n",
        "    FROM \n",
        "        yandex;\n",
        "'''"
      ]
    },
    {
      "cell_type": "code",
      "execution_count": 43,
      "id": "ttPhiO1rsvPq",
      "metadata": {
        "id": "ttPhiO1rsvPq"
      },
      "outputs": [
        {
          "data": {
            "text/html": [
              "<div>\n",
              "<style scoped>\n",
              "    .dataframe tbody tr th:only-of-type {\n",
              "        vertical-align: middle;\n",
              "    }\n",
              "\n",
              "    .dataframe tbody tr th {\n",
              "        vertical-align: top;\n",
              "    }\n",
              "\n",
              "    .dataframe thead th {\n",
              "        text-align: right;\n",
              "    }\n",
              "</style>\n",
              "<table border=\"1\" class=\"dataframe\">\n",
              "  <thead>\n",
              "    <tr style=\"text-align: right;\">\n",
              "      <th></th>\n",
              "      <th>city_name</th>\n",
              "      <th>nb_vacancies</th>\n",
              "    </tr>\n",
              "  </thead>\n",
              "  <tbody>\n",
              "    <tr>\n",
              "      <th>0</th>\n",
              "      <td>Омск</td>\n",
              "      <td>21</td>\n",
              "    </tr>\n",
              "    <tr>\n",
              "      <th>1</th>\n",
              "      <td>Челябинск</td>\n",
              "      <td>22</td>\n",
              "    </tr>\n",
              "    <tr>\n",
              "      <th>2</th>\n",
              "      <td>Красноярск</td>\n",
              "      <td>23</td>\n",
              "    </tr>\n",
              "    <tr>\n",
              "      <th>3</th>\n",
              "      <td>Волгоград</td>\n",
              "      <td>24</td>\n",
              "    </tr>\n",
              "    <tr>\n",
              "      <th>4</th>\n",
              "      <td>Пермь</td>\n",
              "      <td>25</td>\n",
              "    </tr>\n",
              "    <tr>\n",
              "      <th>5</th>\n",
              "      <td>Казань</td>\n",
              "      <td>25</td>\n",
              "    </tr>\n",
              "    <tr>\n",
              "      <th>6</th>\n",
              "      <td>Ростов-на-Дону</td>\n",
              "      <td>25</td>\n",
              "    </tr>\n",
              "    <tr>\n",
              "      <th>7</th>\n",
              "      <td>Уфа</td>\n",
              "      <td>26</td>\n",
              "    </tr>\n",
              "    <tr>\n",
              "      <th>8</th>\n",
              "      <td>Самара</td>\n",
              "      <td>26</td>\n",
              "    </tr>\n",
              "    <tr>\n",
              "      <th>9</th>\n",
              "      <td>Краснодар</td>\n",
              "      <td>30</td>\n",
              "    </tr>\n",
              "    <tr>\n",
              "      <th>10</th>\n",
              "      <td>Воронеж</td>\n",
              "      <td>32</td>\n",
              "    </tr>\n",
              "    <tr>\n",
              "      <th>11</th>\n",
              "      <td>Новосибирск</td>\n",
              "      <td>35</td>\n",
              "    </tr>\n",
              "    <tr>\n",
              "      <th>12</th>\n",
              "      <td>Нижний Новгород</td>\n",
              "      <td>36</td>\n",
              "    </tr>\n",
              "    <tr>\n",
              "      <th>13</th>\n",
              "      <td>Екатеринбург</td>\n",
              "      <td>39</td>\n",
              "    </tr>\n",
              "    <tr>\n",
              "      <th>14</th>\n",
              "      <td>Санкт-Петербург</td>\n",
              "      <td>42</td>\n",
              "    </tr>\n",
              "    <tr>\n",
              "      <th>15</th>\n",
              "      <td>Москва</td>\n",
              "      <td>54</td>\n",
              "    </tr>\n",
              "    <tr>\n",
              "      <th>16</th>\n",
              "      <td>Total</td>\n",
              "      <td>485</td>\n",
              "    </tr>\n",
              "  </tbody>\n",
              "</table>\n",
              "</div>"
            ],
            "text/plain": [
              "          city_name nb_vacancies\n",
              "0              Омск           21\n",
              "1         Челябинск           22\n",
              "2        Красноярск           23\n",
              "3         Волгоград           24\n",
              "4             Пермь           25\n",
              "5            Казань           25\n",
              "6    Ростов-на-Дону           25\n",
              "7               Уфа           26\n",
              "8            Самара           26\n",
              "9         Краснодар           30\n",
              "10          Воронеж           32\n",
              "11      Новосибирск           35\n",
              "12  Нижний Новгород           36\n",
              "13     Екатеринбург           39\n",
              "14  Санкт-Петербург           42\n",
              "15           Москва           54\n",
              "16            Total          485"
            ]
          },
          "execution_count": 43,
          "metadata": {},
          "output_type": "execute_result"
        }
      ],
      "source": [
        "# Выполнение SQL-запроса и получение результата:\n",
        "result = conn.execute(text(query5_7)).fetchall()\n",
        "# Создание DataFrame из результата:\n",
        "df = pd.DataFrame(result)\n",
        "df"
      ]
    },
    {
      "attachments": {},
      "cell_type": "markdown",
      "id": "04966e40-3bc3-4dc8-9ba2-e80580ce3abc",
      "metadata": {
        "id": "04966e40-3bc3-4dc8-9ba2-e80580ce3abc"
      },
      "source": [
        "***"
      ]
    },
    {
      "cell_type": "markdown",
      "id": "aGGyER-yt4SR",
      "metadata": {
        "id": "aGGyER-yt4SR"
      },
      "source": [
        "# выводы по анализу работодателей\n",
        "Топ-5 работодателей по количеству вакансий среди всех работодателей - Яндекс (1933), Ростелеком (491), Тинькофф\t(444), СБЕР\t(428), Газпромнефть (331). Внимание на себя обращает тот факт, что четыре из 5 работодателей являются компаниями с очень развитой IT составляющей.\n",
        "По каоличеству работодателей среди регионов, в которых при отсутствуют вакансии при наличии работодателей, на первом месте РФ, затем Республика Казахстан, Московская область, Краснодарский край и Республика Беларусь. Необходимо уточнить, что взаимное сравнение образований государственного, регионального, областного, городского и муниципального масштаба не может быть информативным.\n",
        "Компании, которые присутствуют в наибольшем количестве регионов - Яндекс (181), Ростелеком (152) и Спецремонт (116) - также имеют явно выраженную IT направленность.\n",
        "\n",
        "У значительной части работодателей - 8419 из 23501 - не указана сфера деятельности.\n",
        "Топ 3 работодателей, для которых указаны 4 сферы деятельности состоит из IT компаний.\n",
        "Из 23501 работодателя 3553 указали \"Разработку програмного обеспечения\" в качестве одной из своих сфер деятельности.\n",
        "\n",
        "Компания \"Яндекс\", которая является лидером среди работодателей по количеству вакансий и их распределённости, предлагает 485 из 1933-х вакансий в городах-миллионерах РФ. Первые два места занимают Москва (54) и Санкт-Петербург (42), занимающие первые 2 места в любых количественных рейтингах рассмотренных ранее. Топ-3 по количеству вакансий \"Яндекс\" совпадает с Топ-3 по разнообразию сфер деятельности работодателей в регионе.\n",
        "\n",
        "\n",
        "\n"
      ]
    },
    {
      "attachments": {},
      "cell_type": "markdown",
      "id": "b1ef156a-efcb-49ce-bb23-90763e7f35b2",
      "metadata": {
        "id": "b1ef156a-efcb-49ce-bb23-90763e7f35b2",
        "tags": []
      },
      "source": [
        "# Юнит 6. Предметный анализ"
      ]
    },
    {
      "attachments": {},
      "cell_type": "markdown",
      "id": "b9cd50a0-992d-4988-8463-2b2b1c4629b4",
      "metadata": {
        "id": "b9cd50a0-992d-4988-8463-2b2b1c4629b4"
      },
      "source": [
        "1. Сколько вакансий имеет отношение к данным?\n",
        "\n",
        "Считаем, что вакансия имеет отношение к данным, если в её названии содержатся слова 'data' или 'данн'.\n",
        "\n",
        "*Подсказка: Обратите внимание, что названия вакансий могут быть написаны в любом регистре.* \n"
      ]
    },
    {
      "cell_type": "code",
      "execution_count": 44,
      "id": "54ab0e50-c0f1-47cc-a54b-bc5c8bc363f9",
      "metadata": {
        "id": "54ab0e50-c0f1-47cc-a54b-bc5c8bc363f9"
      },
      "outputs": [],
      "source": [
        "# SQL-запрос для определения вакансий, относящихся к данным:\n",
        "query6_1 = '''\n",
        "    SELECT\n",
        "        COUNT(id)\n",
        "    FROM \n",
        "        vacancies\n",
        "    WHERE \n",
        "        LOWER(name) LIKE '%data%' OR LOWER(name) LIKE '%данн%';     -- Приведение данных в нижний регистр для повышения точности поиска\n",
        "'''"
      ]
    },
    {
      "cell_type": "code",
      "execution_count": 45,
      "id": "9F1meAqsuUjd",
      "metadata": {
        "id": "9F1meAqsuUjd"
      },
      "outputs": [
        {
          "data": {
            "text/html": [
              "<div>\n",
              "<style scoped>\n",
              "    .dataframe tbody tr th:only-of-type {\n",
              "        vertical-align: middle;\n",
              "    }\n",
              "\n",
              "    .dataframe tbody tr th {\n",
              "        vertical-align: top;\n",
              "    }\n",
              "\n",
              "    .dataframe thead th {\n",
              "        text-align: right;\n",
              "    }\n",
              "</style>\n",
              "<table border=\"1\" class=\"dataframe\">\n",
              "  <thead>\n",
              "    <tr style=\"text-align: right;\">\n",
              "      <th></th>\n",
              "      <th>count</th>\n",
              "    </tr>\n",
              "  </thead>\n",
              "  <tbody>\n",
              "    <tr>\n",
              "      <th>0</th>\n",
              "      <td>1771</td>\n",
              "    </tr>\n",
              "  </tbody>\n",
              "</table>\n",
              "</div>"
            ],
            "text/plain": [
              "   count\n",
              "0   1771"
            ]
          },
          "execution_count": 45,
          "metadata": {},
          "output_type": "execute_result"
        }
      ],
      "source": [
        "# Выполнение SQL-запроса и получение результата:\n",
        "result = conn.execute(text(query6_1)).fetchall()\n",
        "# Создание DataFrame из результата:\n",
        "df = pd.DataFrame(result)\n",
        "df"
      ]
    },
    {
      "attachments": {},
      "cell_type": "markdown",
      "id": "4dea20cb-a36b-474a-a0b9-e08e8e3857a5",
      "metadata": {
        "id": "4dea20cb-a36b-474a-a0b9-e08e8e3857a5"
      },
      "source": [
        "2. Сколько есть подходящих вакансий для начинающего дата-сайентиста? \n",
        "Будем считать вакансиями для дата-сайентистов такие, в названии которых есть хотя бы одно из следующих сочетаний:\n",
        "* 'data scientist'\n",
        "* 'data science'\n",
        "* 'исследователь данных'\n",
        "* 'ML' (здесь не нужно брать вакансии по HTML)\n",
        "* 'machine learning'\n",
        "* 'машинн%обучен%'\n",
        "\n",
        "** В следующих заданиях мы продолжим работать с вакансиями по этому условию.*\n",
        "\n",
        "Считаем вакансиями для специалистов уровня Junior следующие:\n",
        "* в названии есть слово 'junior' *или*\n",
        "* требуемый опыт — Нет опыта *или*\n",
        "* тип трудоустройства — Стажировка.\n",
        " "
      ]
    },
    {
      "cell_type": "code",
      "execution_count": 46,
      "id": "b854c0ed",
      "metadata": {},
      "outputs": [],
      "source": [
        "# SQL-запрос поиска вакансий по описанным выше условиям:\n",
        "query6_2 = '''\n",
        "SELECT\n",
        "    COUNT(id)\n",
        "FROM vacancies\n",
        "WHERE \n",
        "    (LOWER(name) LIKE '%data scientist%' OR LOWER(name) LIKE '%data science%'\n",
        "        OR LOWER(name) LIKE '%исследователь данных%' OR (name LIKE '%ML%' AND name NOT LIKE '%HTML%')\n",
        "            OR LOWER(name) LIKE '%machine learning%' OR LOWER(name) LIKE '%машинн%обучен%')\n",
        "            \n",
        "    AND (LOWER(name) LIKE '%junior%' \n",
        "        OR LOWER(experience) LIKE 'Нет опыта' \n",
        "            OR LOWER(employment) LIKE 'Стажировка');      \n",
        "'''"
      ]
    },
    {
      "cell_type": "code",
      "execution_count": 47,
      "id": "2d853baa",
      "metadata": {},
      "outputs": [
        {
          "data": {
            "text/html": [
              "<div>\n",
              "<style scoped>\n",
              "    .dataframe tbody tr th:only-of-type {\n",
              "        vertical-align: middle;\n",
              "    }\n",
              "\n",
              "    .dataframe tbody tr th {\n",
              "        vertical-align: top;\n",
              "    }\n",
              "\n",
              "    .dataframe thead th {\n",
              "        text-align: right;\n",
              "    }\n",
              "</style>\n",
              "<table border=\"1\" class=\"dataframe\">\n",
              "  <thead>\n",
              "    <tr style=\"text-align: right;\">\n",
              "      <th></th>\n",
              "      <th>count</th>\n",
              "    </tr>\n",
              "  </thead>\n",
              "  <tbody>\n",
              "    <tr>\n",
              "      <th>0</th>\n",
              "      <td>35</td>\n",
              "    </tr>\n",
              "  </tbody>\n",
              "</table>\n",
              "</div>"
            ],
            "text/plain": [
              "   count\n",
              "0     35"
            ]
          },
          "execution_count": 47,
          "metadata": {},
          "output_type": "execute_result"
        }
      ],
      "source": [
        "# Выполнение SQL-запроса и получение результата:\n",
        "result = conn.execute(text(query6_2)).fetchall()\n",
        "# Создание DataFrame из результата:\n",
        "df = pd.DataFrame(result)\n",
        "df"
      ]
    },
    {
      "attachments": {},
      "cell_type": "markdown",
      "id": "eedceb80-c5ca-480e-b27a-278dfb8b4438",
      "metadata": {
        "id": "eedceb80-c5ca-480e-b27a-278dfb8b4438"
      },
      "source": [
        "3. Сколько есть вакансий для DS, в которых в качестве ключевого навыка указан SQL или postgres?\n",
        "\n",
        "** Критерии для отнесения вакансии к DS указаны в предыдущем задании.*"
      ]
    },
    {
      "cell_type": "code",
      "execution_count": 48,
      "id": "4d9c54fa",
      "metadata": {},
      "outputs": [],
      "source": [
        "# SQL-запрос для поиска вакансий с указанием SQL или postgres:  \n",
        "query6_3 = '''\n",
        "SELECT\n",
        "    COUNT(v.id)\n",
        "FROM vacancies AS v\n",
        "WHERE \n",
        "    (LOWER(name) LIKE '%data scientist%' OR LOWER(name) LIKE '%data science%'\n",
        "        OR LOWER(name) LIKE '%исследователь данных%' OR (name LIKE '%ML%' AND name NOT LIKE '%HTML%')\n",
        "            OR LOWER(name) LIKE '%machine learning%' OR LOWER(name) LIKE '%машинн%обучен%')\n",
        "                        \n",
        "    AND (v.key_skills LIKE '%SQL%' OR v.key_skills LIKE '%postgres%');            \n",
        "'''"
      ]
    },
    {
      "cell_type": "code",
      "execution_count": 49,
      "id": "alA8WEAAvGdf",
      "metadata": {
        "id": "alA8WEAAvGdf"
      },
      "outputs": [
        {
          "data": {
            "text/html": [
              "<div>\n",
              "<style scoped>\n",
              "    .dataframe tbody tr th:only-of-type {\n",
              "        vertical-align: middle;\n",
              "    }\n",
              "\n",
              "    .dataframe tbody tr th {\n",
              "        vertical-align: top;\n",
              "    }\n",
              "\n",
              "    .dataframe thead th {\n",
              "        text-align: right;\n",
              "    }\n",
              "</style>\n",
              "<table border=\"1\" class=\"dataframe\">\n",
              "  <thead>\n",
              "    <tr style=\"text-align: right;\">\n",
              "      <th></th>\n",
              "      <th>count</th>\n",
              "    </tr>\n",
              "  </thead>\n",
              "  <tbody>\n",
              "    <tr>\n",
              "      <th>0</th>\n",
              "      <td>201</td>\n",
              "    </tr>\n",
              "  </tbody>\n",
              "</table>\n",
              "</div>"
            ],
            "text/plain": [
              "   count\n",
              "0    201"
            ]
          },
          "execution_count": 49,
          "metadata": {},
          "output_type": "execute_result"
        }
      ],
      "source": [
        "# Выполнение SQL-запроса и получение результата:\n",
        "result = conn.execute(text(query6_3)).fetchall()\n",
        "# Создание DataFrame из результата:\n",
        "df = pd.DataFrame(result)\n",
        "df"
      ]
    },
    {
      "attachments": {},
      "cell_type": "markdown",
      "id": "1be1e9c6-37cf-4a5f-bfeb-04cab799dc80",
      "metadata": {
        "id": "1be1e9c6-37cf-4a5f-bfeb-04cab799dc80"
      },
      "source": [
        "4. Проверьте, насколько популярен Python в требованиях работодателей к DS.Для этого вычислите количество вакансий, в которых в качестве ключевого навыка указан Python.\n",
        "\n",
        "** Это можно сделать помощью запроса, аналогичного предыдущему.*"
      ]
    },
    {
      "cell_type": "code",
      "execution_count": 50,
      "id": "cb9b41b7",
      "metadata": {},
      "outputs": [],
      "source": [
        "# SQL-запрос для проверки популярности Python в требованиях к соискателям:\n",
        "query6_4 = '''\n",
        "SELECT\n",
        "    COUNT(DISTINCT v.id)\n",
        "FROM vacancies AS v\n",
        "WHERE \n",
        "    (LOWER(name) LIKE '%data scientist%' OR LOWER(name) LIKE '%data science%'\n",
        "        OR LOWER(name) LIKE '%исследователь данных%' OR (name LIKE '%ML%' AND name NOT LIKE '%HTML%')\n",
        "            OR LOWER(name) LIKE '%machine learning%' OR LOWER(name) LIKE '%машинн%обучен%')\n",
        "            \n",
        "    AND (key_skills LIKE '%Python%');            \n",
        "'''"
      ]
    },
    {
      "cell_type": "code",
      "execution_count": 51,
      "id": "1i-5WyucvQ6v",
      "metadata": {
        "id": "1i-5WyucvQ6v"
      },
      "outputs": [
        {
          "data": {
            "text/html": [
              "<div>\n",
              "<style scoped>\n",
              "    .dataframe tbody tr th:only-of-type {\n",
              "        vertical-align: middle;\n",
              "    }\n",
              "\n",
              "    .dataframe tbody tr th {\n",
              "        vertical-align: top;\n",
              "    }\n",
              "\n",
              "    .dataframe thead th {\n",
              "        text-align: right;\n",
              "    }\n",
              "</style>\n",
              "<table border=\"1\" class=\"dataframe\">\n",
              "  <thead>\n",
              "    <tr style=\"text-align: right;\">\n",
              "      <th></th>\n",
              "      <th>count</th>\n",
              "    </tr>\n",
              "  </thead>\n",
              "  <tbody>\n",
              "    <tr>\n",
              "      <th>0</th>\n",
              "      <td>351</td>\n",
              "    </tr>\n",
              "  </tbody>\n",
              "</table>\n",
              "</div>"
            ],
            "text/plain": [
              "   count\n",
              "0    351"
            ]
          },
          "execution_count": 51,
          "metadata": {},
          "output_type": "execute_result"
        }
      ],
      "source": [
        "# Выполнение SQL-запроса и получение результата:\n",
        "result = conn.execute(text(query6_4)).fetchall()\n",
        "# Создание DataFrame из результата:\n",
        "df = pd.DataFrame(result)\n",
        "df"
      ]
    },
    {
      "attachments": {},
      "cell_type": "markdown",
      "id": "ec3c8db7-fa21-4a41-a994-1af63742a642",
      "metadata": {
        "id": "ec3c8db7-fa21-4a41-a994-1af63742a642"
      },
      "source": [
        "5. Сколько ключевых навыков в среднем указывают в вакансиях для DS?\n",
        "Ответ округлите до двух знаков после точки-разделителя."
      ]
    },
    {
      "cell_type": "code",
      "execution_count": 52,
      "id": "f7c93090",
      "metadata": {},
      "outputs": [],
      "source": [
        "# SQL-запрос для подсчёта среднего числа ключевых навыков в требованиях к DS соискателям:\n",
        "query6_5 = '''\n",
        "SELECT\n",
        "    ROUND(AVG((LENGTH(key_skills) - LENGTH(REPLACE(key_skills,'\\t',''))+1)),2)      --Рассчёт кол-ва навыков по принципу кол-во разделителей +1\n",
        "FROM vacancies AS v\n",
        "WHERE \n",
        "     (LOWER(name) LIKE '%data scientist%' OR LOWER(name) LIKE '%data science%'\n",
        "        OR LOWER(name) LIKE '%исследователь данных%' OR (name LIKE '%ML%' AND name NOT LIKE '%HTML%')\n",
        "            OR LOWER(name) LIKE '%machine learning%' OR LOWER(name) LIKE '%машинн%обучен%');\n",
        "'''"
      ]
    },
    {
      "cell_type": "code",
      "execution_count": 53,
      "id": "a3V24Tvmviqk",
      "metadata": {
        "id": "a3V24Tvmviqk"
      },
      "outputs": [
        {
          "data": {
            "text/html": [
              "<div>\n",
              "<style scoped>\n",
              "    .dataframe tbody tr th:only-of-type {\n",
              "        vertical-align: middle;\n",
              "    }\n",
              "\n",
              "    .dataframe tbody tr th {\n",
              "        vertical-align: top;\n",
              "    }\n",
              "\n",
              "    .dataframe thead th {\n",
              "        text-align: right;\n",
              "    }\n",
              "</style>\n",
              "<table border=\"1\" class=\"dataframe\">\n",
              "  <thead>\n",
              "    <tr style=\"text-align: right;\">\n",
              "      <th></th>\n",
              "      <th>round</th>\n",
              "    </tr>\n",
              "  </thead>\n",
              "  <tbody>\n",
              "    <tr>\n",
              "      <th>0</th>\n",
              "      <td>6.41</td>\n",
              "    </tr>\n",
              "  </tbody>\n",
              "</table>\n",
              "</div>"
            ],
            "text/plain": [
              "  round\n",
              "0  6.41"
            ]
          },
          "execution_count": 53,
          "metadata": {},
          "output_type": "execute_result"
        }
      ],
      "source": [
        "# Выполнение SQL-запроса и получение результата:\n",
        "result = conn.execute(text(query6_5)).fetchall()\n",
        "# Создание DataFrame из результата:\n",
        "df = pd.DataFrame(result)\n",
        "df"
      ]
    },
    {
      "cell_type": "markdown",
      "id": "47e90782",
      "metadata": {},
      "source": [
        "Дополнительное исследование 6.5.1: Каково среднее количество требуемых навыков среди всех предложений"
      ]
    },
    {
      "cell_type": "code",
      "execution_count": 61,
      "id": "ca7699e4",
      "metadata": {},
      "outputs": [],
      "source": [
        "# SQL-запрос для подсчёта среднего числа ключевых навыков в требованиях к соискателям:\n",
        "query6_5_1 = '''\n",
        "SELECT\n",
        "    ROUND(AVG((LENGTH(key_skills) - LENGTH(REPLACE(key_skills,'\\t',''))+1)),2)      --Рассчёт кол-ва навыков по принципу кол-во разделителей +1\n",
        "FROM vacancies AS v\n",
        "WHERE NOT\n",
        "     ((LOWER(name) LIKE '%data scientist%' OR LOWER(name) LIKE '%data science%'\n",
        "        OR LOWER(name) LIKE '%исследователь данных%' OR (name LIKE '%ML%' AND name NOT LIKE '%HTML%')\n",
        "            OR LOWER(name) LIKE '%machine learning%' OR LOWER(name) LIKE '%машинн%обучен%'));\n",
        "'''"
      ]
    },
    {
      "cell_type": "code",
      "execution_count": 62,
      "id": "1ede5887",
      "metadata": {},
      "outputs": [
        {
          "data": {
            "text/html": [
              "<div>\n",
              "<style scoped>\n",
              "    .dataframe tbody tr th:only-of-type {\n",
              "        vertical-align: middle;\n",
              "    }\n",
              "\n",
              "    .dataframe tbody tr th {\n",
              "        vertical-align: top;\n",
              "    }\n",
              "\n",
              "    .dataframe thead th {\n",
              "        text-align: right;\n",
              "    }\n",
              "</style>\n",
              "<table border=\"1\" class=\"dataframe\">\n",
              "  <thead>\n",
              "    <tr style=\"text-align: right;\">\n",
              "      <th></th>\n",
              "      <th>round</th>\n",
              "    </tr>\n",
              "  </thead>\n",
              "  <tbody>\n",
              "    <tr>\n",
              "      <th>0</th>\n",
              "      <td>6.37</td>\n",
              "    </tr>\n",
              "  </tbody>\n",
              "</table>\n",
              "</div>"
            ],
            "text/plain": [
              "  round\n",
              "0  6.37"
            ]
          },
          "execution_count": 62,
          "metadata": {},
          "output_type": "execute_result"
        }
      ],
      "source": [
        "# Выполнение SQL-запроса и получение результата:\n",
        "result = conn.execute(text(query6_5_1)).fetchall()\n",
        "# Создание DataFrame из результата:\n",
        "df = pd.DataFrame(result)\n",
        "df"
      ]
    },
    {
      "attachments": {},
      "cell_type": "markdown",
      "id": "1041c17a-ca8f-4543-a0ca-32778914fb00",
      "metadata": {
        "id": "1041c17a-ca8f-4543-a0ca-32778914fb00"
      },
      "source": [
        "6. Напишите запрос, позволяющий вычислить, какую зарплату для DS в **среднем** указывают для каждого типа требуемого опыта (уникальное значение из поля *experience*). \n",
        "\n",
        "При решении задачи примите во внимание следующее:\n",
        "1. Рассматриваем только вакансии, у которых заполнено хотя бы одно из двух полей с зарплатой.\n",
        "2. Если заполнены оба поля с зарплатой, то считаем зарплату по каждой вакансии как сумму двух полей, делённую на 2. Если заполнено только одно из полей, то его и считаем зарплатой по вакансии.\n",
        "3. Если в расчётах участвует null, в результате он тоже даст null (посмотрите, что возвращает запрос select 1 + null). Чтобы избежать этой ситуацию, мы воспользуемся функцией [coalesce](https://postgrespro.ru/docs/postgresql/9.5/functions-conditional#functions-coalesce-nvl-ifnull), которая заменит null на значение, которое мы передадим. Например, посмотрите, что возвращает запрос `select 1 + coalesce(null, 0)`\n",
        "\n",
        "Выясните, на какую зарплату в среднем может рассчитывать дата-сайентист с опытом работы от 3 до 6 лет. Результат округлите до целого числа. "
      ]
    },
    {
      "cell_type": "code",
      "execution_count": null,
      "id": "042a0a33",
      "metadata": {},
      "outputs": [],
      "source": [
        "# SQL-запрос для рассчёт средней зарплаты в зависимости от требуемого опыта:\n",
        "query6_6 = '''\n",
        "SELECT\n",
        "    experience,\n",
        "    ROUND(AVG((COALESCE(salary_from, salary_to) + COALESCE(salary_to, salary_from)) / 2)) AS mean_salary\n",
        "FROM \n",
        "    vacancies\n",
        "WHERE \n",
        "    (LOWER(name) LIKE '%data scientist%' OR LOWER(name) LIKE '%data science%'\n",
        "        OR LOWER(name) LIKE '%исследователь данных%' OR (name LIKE '%ML%' AND name NOT LIKE '%HTML%')\n",
        "            OR LOWER(name) LIKE '%machine learning%' OR LOWER(name) LIKE '%машинн%обучен%')\n",
        "            \n",
        "    AND (salary_from IS NOT NULL OR salary_to IS NOT NULL)\n",
        "GROUP BY \n",
        "    experience;\n",
        "'''"
      ]
    },
    {
      "cell_type": "code",
      "execution_count": null,
      "id": "aRIJ0mZEwU1_",
      "metadata": {
        "id": "aRIJ0mZEwU1_"
      },
      "outputs": [
        {
          "data": {
            "text/html": [
              "<div>\n",
              "<style scoped>\n",
              "    .dataframe tbody tr th:only-of-type {\n",
              "        vertical-align: middle;\n",
              "    }\n",
              "\n",
              "    .dataframe tbody tr th {\n",
              "        vertical-align: top;\n",
              "    }\n",
              "\n",
              "    .dataframe thead th {\n",
              "        text-align: right;\n",
              "    }\n",
              "</style>\n",
              "<table border=\"1\" class=\"dataframe\">\n",
              "  <thead>\n",
              "    <tr style=\"text-align: right;\">\n",
              "      <th></th>\n",
              "      <th>experience</th>\n",
              "      <th>mean_salary</th>\n",
              "    </tr>\n",
              "  </thead>\n",
              "  <tbody>\n",
              "    <tr>\n",
              "      <th>0</th>\n",
              "      <td>Нет опыта</td>\n",
              "      <td>74643</td>\n",
              "    </tr>\n",
              "    <tr>\n",
              "      <th>1</th>\n",
              "      <td>От 1 года до 3 лет</td>\n",
              "      <td>139675</td>\n",
              "    </tr>\n",
              "    <tr>\n",
              "      <th>2</th>\n",
              "      <td>От 3 до 6 лет</td>\n",
              "      <td>243115</td>\n",
              "    </tr>\n",
              "  </tbody>\n",
              "</table>\n",
              "</div>"
            ],
            "text/plain": [
              "           experience mean_salary\n",
              "0           Нет опыта       74643\n",
              "1  От 1 года до 3 лет      139675\n",
              "2       От 3 до 6 лет      243115"
            ]
          },
          "execution_count": 168,
          "metadata": {},
          "output_type": "execute_result"
        }
      ],
      "source": [
        "# Выполнение SQL-запроса и получение результата:\n",
        "result = conn.execute(text(query6_6)).fetchall()\n",
        "# Создание DataFrame из результата:\n",
        "df = pd.DataFrame(result)\n",
        "df"
      ]
    },
    {
      "cell_type": "code",
      "execution_count": null,
      "id": "84ffd7a7",
      "metadata": {},
      "outputs": [],
      "source": [
        "# Выполнение SQL-запроса и получение результата:\n",
        "result = conn.execute(text(query6_6)).fetchall()\n",
        "# Создание DataFrame из результата:\n",
        "df = pd.DataFrame(result)\n",
        "df"
      ]
    },
    {
      "cell_type": "markdown",
      "id": "UjLWUptVwY1o",
      "metadata": {
        "id": "UjLWUptVwY1o"
      },
      "source": [
        "# выводы по предметному анализу\n",
        "\n",
        "В ходе исследования была обнаружена 1771 вакансия, имеющая отношение к данным и работе с ними. Из них подходящих для начинающего data scientist - 35.\n",
        "Всего среди вакансий для DS требуют владения SQL или postgres - 201\n",
        "Владение Python предполагает 351 вакансия\n",
        "Среднее количество необходимых навыков, указанных в DS вакансиях - 6.41\n",
        "\n",
        "Средняя зарплата в сфере DS значительно возрастает с увеличением опыта работы соискателя. Без опыта работы прелагаемая зарплата \n",
        "в среднем равна 74643, при опыте работы 1-3 года она составляет в среднем 139675, затем, при опыте работы 3-6 лет - 243115. Эти уровни зарплатных предложений явно выше средних по рынку (71065 - 110537 руб)."
      ]
    },
    {
      "attachments": {},
      "cell_type": "markdown",
      "id": "c0ED6fh7wiBT",
      "metadata": {
        "id": "c0ED6fh7wiBT"
      },
      "source": [
        "# Общий вывод по проекту"
      ]
    },
    {
      "cell_type": "markdown",
      "id": "h9B3BL-wwj18",
      "metadata": {
        "id": "h9B3BL-wwj18"
      },
      "source": [
        "## Основные выводы полученные на основе промежуточных результатов ##\n",
        "\n",
        "Рынок труда представлен большим количеством вакансий и разнообразием сфер деятельности и регионов.\n",
        "Среднее количество вакансий на одного работодателя говорит о наличии конкуренции между работодателями.\n",
        "\n",
        "Москва и крупные города лидируют по количеству вакансий, при этом Москва имеет значительный отрыв от других городов.\n",
        "\n",
        "Предприятия, публикующие вакансии, часто не предоставляют всю необходимую информацию, что затрудняет выбор вакансий.\n",
        "Меньше половины вакансий указывают информацию о зарплате, что явно является неудобным для соискателя. Значительное количество работодателей не указали сферу деятельности компаний, что также может вызывать сложности для тех соискателей, которые хотят запланировать свой карьерный путь в рамках одной компании. Подобная типичная структура объявлений о вакансии говорит о том, что речь идёт о рынке труда \"сильного работодателя\", где преимущество переговорной позиции изначально находится на стороне работодателя.\n",
        "\n",
        "Опыт работы от 1 до 3 лет наиболее распространен среди требований к соискателям, что может говорить о том, что компании предпочитают набирать молодых специалистов и доучивать их согласно специфике каждого отдельного предприятия. Кроме того, можно предположить, что текучесть более опытных кадров значительно ниже и, соответственно, вакансии для них освобождаются реже. Это так же может говорить о том, что мобильность более опытных кадров обеспечивается в основном другими средствами, помимо публикации вакансии на сайте HH. Кроме того, малый спрос на опытные кадры является признаком того, что предприятия не расширяют объёмы своей работы, не открывают новых торговых или промышленных мощностей и, соответственно, не нуждаются в увеличении количества более опытных и ответственных сотрудников для низовой организации такого рода расширения. \n",
        "\n",
        "IT-компании, такие как Яндекс и Ростелеком, имеют высокое количество вакансий и разнообразие сфер деятельности в разных регионах. Наибольшее количество вакансий, со значительным отрывом, приходится на Москву, что говорит о значительной централизации и географической разбалансированности распределения занятости в IT.\n",
        "\n",
        "Существует достаточно ограниченное количество вакансий для Data Scientist, и большинство из них требуют опыта и специфических навыков, таких как SQL и Python. Среднее количество требуемых навыков для вакансий в Data Scientist незначительно превышает аналогичное среднее требование по рынку. \n",
        "\n",
        "Зарплата Data Scientist сильно зависит от опыта работы но в большинстве случаев значительно превышает среднюю максимальную зарплату по рынку.\n",
        "\n",
        "\n",
        "### Варианты продолжения исследования: ###\n",
        "\n",
        "Анализ зарплатных трендов: Проведение более подробного анализа зарплатных данных для разных регионов и сфер деятельности, чтобы выявить тенденции и сравнить их с текущими стандартами рынка.\n",
        "\n",
        "Исследование влияния COVID-19: Анализ изменений в рынке труда, вызванных пандемией COVID-19, и прогнозирование долгосрочных последствий для различных отраслей и регионов.\n",
        "\n",
        "Моделирование спроса и предложения: Разработка моделей для прогнозирования спроса на рабочую силу и предложения вакансий на рынке труда.\n",
        "\n",
        "Анализ качества соискателей: Исследование качества соискателей, их образования и навыков, чтобы лучше соотнести предложение и спрос на рынке труда.\n",
        " \n",
        "Мониторинг рынка труда: Регулярное обновление данных и мониторинг изменений на рынке труда для адаптации к динамике спроса и предложения.\n",
        "\n",
        "Специализированный анализ отраслей: Проведение более детального анализа конкретных отраслей и регионов для выявления уникальных тенденций и потребностей.\n",
        "\n",
        "Социальный анализ: Исследование вопросов включения, равенства и разнообразия на рынке труда для создания более справедливой рабочей среды.\n",
        "\n",
        "Экономико-географический анализ: Рынок труда как индикатор изменений в географическом распределении ключевых отраслей экономики и экономического здоровья регионов."
      ]
    }
  ],
  "metadata": {
    "colab": {
      "collapsed_sections": [
        "8d62a9f3-f64e-4fe7-bdac-c4dffa16155e"
      ],
      "provenance": []
    },
    "kernelspec": {
      "display_name": "Python 3 (ipykernel)",
      "language": "python",
      "name": "python3"
    },
    "language_info": {
      "codemirror_mode": {
        "name": "ipython",
        "version": 3
      },
      "file_extension": ".py",
      "mimetype": "text/x-python",
      "name": "python",
      "nbconvert_exporter": "python",
      "pygments_lexer": "ipython3",
      "version": "3.9.10"
    }
  },
  "nbformat": 4,
  "nbformat_minor": 5
}
